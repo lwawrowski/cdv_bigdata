{
 "cells": [
  {
   "cell_type": "markdown",
   "id": "a1799d80",
   "metadata": {},
   "source": [
    "# Dane\n",
    "\n",
    "Przygotowanie danych do trenowania modelu ML\n",
    "\n",
    "## Wczytanie danych "
   ]
  },
  {
   "cell_type": "code",
   "execution_count": 3,
   "id": "019bf823",
   "metadata": {},
   "outputs": [
    {
     "name": "stdout",
     "output_type": "stream",
     "text": [
      "Requirement already satisfied: pandas in d:\\cdv\\mad_gr1\\venv\\lib\\site-packages (2.2.3)\n",
      "Requirement already satisfied: numpy>=1.26.0 in d:\\cdv\\mad_gr1\\venv\\lib\\site-packages (from pandas) (2.2.4)\n",
      "Requirement already satisfied: python-dateutil>=2.8.2 in d:\\cdv\\mad_gr1\\venv\\lib\\site-packages (from pandas) (2.9.0.post0)\n",
      "Requirement already satisfied: pytz>=2020.1 in d:\\cdv\\mad_gr1\\venv\\lib\\site-packages (from pandas) (2025.2)\n",
      "Requirement already satisfied: tzdata>=2022.7 in d:\\cdv\\mad_gr1\\venv\\lib\\site-packages (from pandas) (2025.2)\n",
      "Requirement already satisfied: six>=1.5 in d:\\cdv\\mad_gr1\\venv\\lib\\site-packages (from python-dateutil>=2.8.2->pandas) (1.17.0)\n"
     ]
    }
   ],
   "source": [
    "! pip install pandas"
   ]
  },
  {
   "cell_type": "code",
   "execution_count": 1,
   "id": "737764cc",
   "metadata": {},
   "outputs": [],
   "source": [
    "import pandas as pd\n",
    "import numpy as np\n",
    "\n",
    "credit = pd.read_csv('data/german_credit_data.csv')"
   ]
  },
  {
   "cell_type": "markdown",
   "id": "4f6f7ecb",
   "metadata": {},
   "source": [
    "## Uporządkowanie nazw kolumn"
   ]
  },
  {
   "cell_type": "markdown",
   "id": "bc1a04ac",
   "metadata": {},
   "source": [
    "Wykorzystując funkcje wbudowane"
   ]
  },
  {
   "cell_type": "code",
   "execution_count": 5,
   "id": "183b7d0b",
   "metadata": {},
   "outputs": [
    {
     "data": {
      "text/plain": [
       "Index(['age', 'sex', 'job', 'housing', 'saving_accounts', 'checking_account',\n",
       "       'credit_amount', 'duration', 'purpose', 'risk'],\n",
       "      dtype='object')"
      ]
     },
     "execution_count": 5,
     "metadata": {},
     "output_type": "execute_result"
    }
   ],
   "source": [
    "credit.columns\n",
    "credit.columns = credit.columns.str.replace(' ', '_').str.lower()\n",
    "credit.columns"
   ]
  },
  {
   "cell_type": "markdown",
   "id": "be420d06",
   "metadata": {},
   "source": [
    "Z wykorzystaniem pakietu `pyjanitor`"
   ]
  },
  {
   "cell_type": "code",
   "execution_count": 6,
   "id": "fe56acaa",
   "metadata": {},
   "outputs": [
    {
     "name": "stdout",
     "output_type": "stream",
     "text": [
      "Requirement already satisfied: pyjanitor in d:\\cdv\\mad_gr1\\venv\\lib\\site-packages (0.31.0)\n",
      "Requirement already satisfied: natsort in d:\\cdv\\mad_gr1\\venv\\lib\\site-packages (from pyjanitor) (8.4.0)\n",
      "Requirement already satisfied: pandas_flavor in d:\\cdv\\mad_gr1\\venv\\lib\\site-packages (from pyjanitor) (0.7.0)\n",
      "Requirement already satisfied: multipledispatch in d:\\cdv\\mad_gr1\\venv\\lib\\site-packages (from pyjanitor) (1.0.0)\n",
      "Requirement already satisfied: scipy in d:\\cdv\\mad_gr1\\venv\\lib\\site-packages (from pyjanitor) (1.15.2)\n",
      "Requirement already satisfied: pandas>=0.23 in d:\\cdv\\mad_gr1\\venv\\lib\\site-packages (from pandas_flavor->pyjanitor) (2.2.3)\n",
      "Requirement already satisfied: xarray in d:\\cdv\\mad_gr1\\venv\\lib\\site-packages (from pandas_flavor->pyjanitor) (2025.3.1)\n",
      "Requirement already satisfied: numpy<2.5,>=1.23.5 in d:\\cdv\\mad_gr1\\venv\\lib\\site-packages (from scipy->pyjanitor) (2.2.4)\n",
      "Requirement already satisfied: python-dateutil>=2.8.2 in d:\\cdv\\mad_gr1\\venv\\lib\\site-packages (from pandas>=0.23->pandas_flavor->pyjanitor) (2.9.0.post0)\n",
      "Requirement already satisfied: pytz>=2020.1 in d:\\cdv\\mad_gr1\\venv\\lib\\site-packages (from pandas>=0.23->pandas_flavor->pyjanitor) (2025.2)\n",
      "Requirement already satisfied: tzdata>=2022.7 in d:\\cdv\\mad_gr1\\venv\\lib\\site-packages (from pandas>=0.23->pandas_flavor->pyjanitor) (2025.2)\n",
      "Requirement already satisfied: packaging>=23.2 in d:\\cdv\\mad_gr1\\venv\\lib\\site-packages (from xarray->pandas_flavor->pyjanitor) (24.2)\n",
      "Requirement already satisfied: six>=1.5 in d:\\cdv\\mad_gr1\\venv\\lib\\site-packages (from python-dateutil>=2.8.2->pandas>=0.23->pandas_flavor->pyjanitor) (1.17.0)\n"
     ]
    }
   ],
   "source": [
    "! pip install pyjanitor"
   ]
  },
  {
   "cell_type": "markdown",
   "id": "377890bd",
   "metadata": {},
   "source": [
    "Można zaimportować cały pakiet lub tylko wybraną funkcję"
   ]
  },
  {
   "cell_type": "code",
   "execution_count": 2,
   "id": "c8b628bd",
   "metadata": {},
   "outputs": [],
   "source": [
    "import janitor\n",
    "\n",
    "credit = credit.clean_names()"
   ]
  },
  {
   "cell_type": "code",
   "execution_count": 8,
   "id": "4ec9c90e",
   "metadata": {},
   "outputs": [],
   "source": [
    "from janitor import clean_names\n",
    "\n",
    "credit = clean_names(credit)"
   ]
  },
  {
   "cell_type": "markdown",
   "id": "fb7e1f9d",
   "metadata": {},
   "source": [
    "## Braki danych\n",
    "\n",
    "Filtrowanie danych z brakami danych"
   ]
  },
  {
   "cell_type": "code",
   "execution_count": 9,
   "id": "392fea19",
   "metadata": {},
   "outputs": [],
   "source": [
    "credit_nan = credit[~credit[\"checking_account\"].isna() & ~credit[\"saving_accounts\"].isna()]\n",
    "credit_male_50 = credit[(credit[\"sex\"] == \"male\") & (credit[\"age\"] > 50)]"
   ]
  },
  {
   "cell_type": "markdown",
   "id": "28885f14",
   "metadata": {},
   "source": [
    "Uzupełnienie braków danych najczęściej występującą wartością"
   ]
  },
  {
   "cell_type": "code",
   "execution_count": 10,
   "id": "e967a3e9",
   "metadata": {},
   "outputs": [
    {
     "data": {
      "text/plain": [
       "checking_account\n",
       "little      274\n",
       "moderate    269\n",
       "rich         63\n",
       "Name: count, dtype: int64"
      ]
     },
     "execution_count": 10,
     "metadata": {},
     "output_type": "execute_result"
    }
   ],
   "source": [
    "credit[\"checking_account\"].value_counts()"
   ]
  },
  {
   "cell_type": "code",
   "execution_count": 3,
   "id": "3da05476",
   "metadata": {},
   "outputs": [
    {
     "data": {
      "application/vnd.microsoft.datawrangler.viewer.v0+json": {
       "columns": [
        {
         "name": "checking_account",
         "rawType": "object",
         "type": "string"
        },
        {
         "name": "count",
         "rawType": "int64",
         "type": "integer"
        }
       ],
       "ref": "68e872ba-5d3d-491a-bbbd-33be1e77a16f",
       "rows": [
        [
         "little",
         "668"
        ],
        [
         "moderate",
         "269"
        ],
        [
         "rich",
         "63"
        ]
       ],
       "shape": {
        "columns": 1,
        "rows": 3
       }
      },
      "text/plain": [
       "checking_account\n",
       "little      668\n",
       "moderate    269\n",
       "rich         63\n",
       "Name: count, dtype: int64"
      ]
     },
     "execution_count": 3,
     "metadata": {},
     "output_type": "execute_result"
    }
   ],
   "source": [
    "check_acc_mode = credit[\"checking_account\"].mode()[0]\n",
    "credit[\"checking_account\"] = credit[\"checking_account\"].fillna(check_acc_mode)\n",
    "credit[\"checking_account\"].value_counts()"
   ]
  },
  {
   "cell_type": "markdown",
   "id": "11cce09f",
   "metadata": {},
   "source": [
    "Wykorzystanie pakietu `sklearn`"
   ]
  },
  {
   "cell_type": "code",
   "execution_count": 12,
   "id": "060a99c7",
   "metadata": {},
   "outputs": [
    {
     "name": "stdout",
     "output_type": "stream",
     "text": [
      "Requirement already satisfied: scikit-learn in d:\\cdv\\mad_gr1\\venv\\lib\\site-packages (1.6.1)\n",
      "Requirement already satisfied: numpy>=1.19.5 in d:\\cdv\\mad_gr1\\venv\\lib\\site-packages (from scikit-learn) (2.2.4)\n",
      "Requirement already satisfied: scipy>=1.6.0 in d:\\cdv\\mad_gr1\\venv\\lib\\site-packages (from scikit-learn) (1.15.2)\n",
      "Requirement already satisfied: joblib>=1.2.0 in d:\\cdv\\mad_gr1\\venv\\lib\\site-packages (from scikit-learn) (1.4.2)\n",
      "Requirement already satisfied: threadpoolctl>=3.1.0 in d:\\cdv\\mad_gr1\\venv\\lib\\site-packages (from scikit-learn) (3.6.0)\n"
     ]
    }
   ],
   "source": [
    "! pip install scikit-learn"
   ]
  },
  {
   "cell_type": "code",
   "execution_count": 4,
   "id": "3291af87",
   "metadata": {},
   "outputs": [],
   "source": [
    "from sklearn.impute import SimpleImputer\n",
    "\n",
    "imputer = SimpleImputer(strategy=\"most_frequent\")\n",
    "credit[[\"saving_accounts\"]] = imputer.fit_transform(credit[[\"saving_accounts\"]])"
   ]
  },
  {
   "cell_type": "markdown",
   "id": "cd872d52",
   "metadata": {},
   "source": [
    "## Wartości odstające"
   ]
  },
  {
   "cell_type": "code",
   "execution_count": 14,
   "id": "5d4d0cbd",
   "metadata": {},
   "outputs": [],
   "source": [
    "Q1 = credit['credit_amount'].quantile(0.25)\n",
    "Q3 = credit['credit_amount'].quantile(0.75)\n",
    "IQR = Q3 - Q1\n",
    "\n",
    "# Granice\n",
    "dolna = Q1 - 1.5 * IQR\n",
    "górna = Q3 + 1.5 * IQR"
   ]
  },
  {
   "cell_type": "markdown",
   "id": "dbf83071",
   "metadata": {},
   "source": [
    "## Duplikaty"
   ]
  },
  {
   "cell_type": "code",
   "execution_count": 15,
   "id": "f8f4ba66",
   "metadata": {},
   "outputs": [],
   "source": [
    "credit_dedup = credit.drop_duplicates()"
   ]
  },
  {
   "cell_type": "markdown",
   "id": "5b8b949b",
   "metadata": {},
   "source": [
    "## Inżynieria cech"
   ]
  },
  {
   "cell_type": "code",
   "execution_count": 5,
   "id": "1d19e269",
   "metadata": {},
   "outputs": [],
   "source": [
    "credit[\"retirement_age\"] = np.where(credit[\"age\"] > 65, 0, 65 - credit[\"age\"])\n",
    "credit[\"installment\"] = credit[\"credit_amount\"] / credit[\"duration\"]\n",
    "credit[\"age_group\"] = pd.cut(credit[\"age\"], bins=[0, 30, 40, 50, 60, 80], labels=[\"30\", \"30-40\", \"40-50\", \"50-60\", \"60\"])\n"
   ]
  },
  {
   "cell_type": "markdown",
   "id": "37c70abd",
   "metadata": {},
   "source": [
    "## One hot encoding\n",
    "\n",
    "Zamiana kategorii na cechy numeryczne zero-jedynkowe"
   ]
  },
  {
   "cell_type": "code",
   "execution_count": 6,
   "id": "d5225df2",
   "metadata": {},
   "outputs": [],
   "source": [
    "categorical_columns = [\"sex\", \"job\", \"housing\", \"saving_accounts\", \"checking_account\", \"purpose\", \"age_group\"]\n",
    "credit_ohe = pd.get_dummies(credit, \n",
    "                            columns=categorical_columns, \n",
    "                            dtype=int)"
   ]
  },
  {
   "cell_type": "code",
   "execution_count": 7,
   "id": "29b64811",
   "metadata": {},
   "outputs": [],
   "source": [
    "from sklearn.preprocessing import OneHotEncoder\n",
    "\n",
    "encoder = OneHotEncoder()\n",
    "credit_enc = encoder.fit_transform(credit[categorical_columns])\n",
    "credit_enc_df = pd.DataFrame(credit_enc.toarray(), columns=encoder.get_feature_names_out())"
   ]
  },
  {
   "cell_type": "markdown",
   "id": "8590971a",
   "metadata": {},
   "source": [
    "## Normalizacja cech\n",
    "\n",
    "Normalizacja cech numerycznych "
   ]
  },
  {
   "cell_type": "code",
   "execution_count": 8,
   "id": "95f7abda",
   "metadata": {},
   "outputs": [],
   "source": [
    "from sklearn.preprocessing import StandardScaler\n",
    "\n",
    "scaler = StandardScaler()\n",
    "numeric_columns = [\"age\", \"credit_amount\", \"duration\", \"installment\", \"retirement_age\"]\n",
    "credit_scaled = scaler.fit_transform(credit[numeric_columns])\n",
    "credit_scaled_df = pd.DataFrame(credit_scaled, columns=numeric_columns)"
   ]
  },
  {
   "cell_type": "markdown",
   "id": "bd9ac222",
   "metadata": {},
   "source": [
    "## Kodowanie klasy decyzyjnej\n",
    "\n",
    "Zmiana wartości zmiennej celu do wartości od 0 do liczby klas"
   ]
  },
  {
   "cell_type": "code",
   "execution_count": 9,
   "id": "1c014327",
   "metadata": {},
   "outputs": [],
   "source": [
    "from sklearn.preprocessing import LabelEncoder\n",
    "\n",
    "le = LabelEncoder()\n",
    "credit[\"risk\"] = le.fit_transform(credit[\"risk\"])"
   ]
  },
  {
   "cell_type": "markdown",
   "id": "b54718b0",
   "metadata": {},
   "source": [
    "Stworzenie finalnego zbioru danych"
   ]
  },
  {
   "cell_type": "code",
   "execution_count": 10,
   "id": "128a5878",
   "metadata": {},
   "outputs": [],
   "source": [
    "credit_final = pd.concat([credit_scaled_df, credit_enc_df, credit[[\"risk\"]]], axis=1)\n",
    "\n",
    "credit_final.to_csv('data/german_credit_final.csv', index=False)"
   ]
  },
  {
   "cell_type": "markdown",
   "id": "b327126e",
   "metadata": {},
   "source": [
    "## Podział danych do uczenia"
   ]
  },
  {
   "cell_type": "code",
   "execution_count": 22,
   "id": "ca3bfb01",
   "metadata": {},
   "outputs": [],
   "source": [
    "from sklearn.model_selection import train_test_split\n",
    "\n",
    "X = credit_final.drop(\"risk\", axis=1)\n",
    "y = credit_final[\"risk\"]\n",
    "\n",
    "X_train, X_test, y_train, y_test = train_test_split(X, y, test_size=0.2, random_state=42)"
   ]
  },
  {
   "cell_type": "code",
   "execution_count": 23,
   "id": "114f09f1",
   "metadata": {},
   "outputs": [
    {
     "data": {
      "text/plain": [
       "risk\n",
       "1    700\n",
       "0    300\n",
       "Name: count, dtype: int64"
      ]
     },
     "execution_count": 23,
     "metadata": {},
     "output_type": "execute_result"
    }
   ],
   "source": [
    "y.value_counts()"
   ]
  },
  {
   "cell_type": "code",
   "execution_count": 24,
   "id": "2098ffa7",
   "metadata": {},
   "outputs": [
    {
     "data": {
      "text/plain": [
       "risk\n",
       "1    141\n",
       "0     59\n",
       "Name: count, dtype: int64"
      ]
     },
     "execution_count": 24,
     "metadata": {},
     "output_type": "execute_result"
    }
   ],
   "source": [
    "y_test.value_counts()"
   ]
  },
  {
   "cell_type": "code",
   "execution_count": 25,
   "id": "9c1a15b9",
   "metadata": {},
   "outputs": [
    {
     "data": {
      "text/plain": [
       "risk\n",
       "1    559\n",
       "0    241\n",
       "Name: count, dtype: int64"
      ]
     },
     "execution_count": 25,
     "metadata": {},
     "output_type": "execute_result"
    }
   ],
   "source": [
    "y_train.value_counts()"
   ]
  }
 ],
 "metadata": {
  "kernelspec": {
   "display_name": "venv",
   "language": "python",
   "name": "python3"
  },
  "language_info": {
   "codemirror_mode": {
    "name": "ipython",
    "version": 3
   },
   "file_extension": ".py",
   "mimetype": "text/x-python",
   "name": "python",
   "nbconvert_exporter": "python",
   "pygments_lexer": "ipython3",
   "version": "3.13.3"
  }
 },
 "nbformat": 4,
 "nbformat_minor": 5
}
