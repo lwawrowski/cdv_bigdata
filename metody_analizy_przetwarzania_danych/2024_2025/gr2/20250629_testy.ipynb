{
 "cells": [
  {
   "cell_type": "code",
   "execution_count": 9,
   "id": "256cf5ad",
   "metadata": {},
   "outputs": [
    {
     "data": {
      "text/plain": [
       "<matplotlib.collections.PathCollection at 0x250504aa270>"
      ]
     },
     "execution_count": 9,
     "metadata": {},
     "output_type": "execute_result"
    },
    {
     "data": {
      "image/png": "[encoded data removed]",
      "text/plain": [
       "<Figure size 640x480 with 1 Axes>"
      ]
     },
     "metadata": {},
     "output_type": "display_data"
    }
   ],
   "source": [
    "import pandas as pd\n",
    "import numpy as np\n",
    "\n",
    "import matplotlib.pyplot as plt\n",
    "\n",
    "smog = pd.read_csv('data/smog_pszczyna.csv', sep=';', decimal=',', encoding='utf-8')\n",
    "\n",
    "smog['pm10_poziom'] = np.where(smog['pm10'] >= 50, 'powyższony', 'w normie')\n",
    "smog['tmin_zero'] = np.where(smog['tmin_daily'] < 0, 'poniżej zera', 'powyżej zera')\n",
    "\n",
    "smog2017 = smog[smog['rok'] == 2017].copy()\n",
    "\n",
    "plt.scatter(smog['tmin_daily'], smog['tmax_daily'])"
   ]
  },
  {
   "cell_type": "markdown",
   "id": "8b5e5e0c",
   "metadata": {},
   "source": [
    "# Test niezależności\n",
    "\n",
    "H0: poziom pm10 i kategoria temperatury są niezależne\n",
    "\n",
    "H1: poziom pm10 i kategoria temperatury nie są niezależne\n",
    "\n",
    "Poziom istotności: 0.05"
   ]
  },
  {
   "cell_type": "code",
   "execution_count": 10,
   "id": "e198e089",
   "metadata": {},
   "outputs": [
    {
     "name": "stdout",
     "output_type": "stream",
     "text": [
      "tmin_zero    poniżej zera  powyżej zera\n",
      "pm10_poziom                            \n",
      "powyższony             60            44\n",
      "w normie               27           234\n"
     ]
    }
   ],
   "source": [
    "tablica_kontyngencji = pd.crosstab(smog2017['pm10_poziom'], smog2017['tmin_zero'])\n",
    "print(tablica_kontyngencji)"
   ]
  },
  {
   "cell_type": "code",
   "execution_count": 12,
   "id": "0d7fb3c2",
   "metadata": {},
   "outputs": [
    {
     "data": {
      "text/plain": [
       "Chi2ContingencyResult(statistic=np.float64(89.24295065190263), pvalue=np.float64(3.491849372643208e-21), dof=1, expected_freq=array([[ 24.7890411,  79.2109589],\n",
       "       [ 62.2109589, 198.7890411]]))"
      ]
     },
     "execution_count": 12,
     "metadata": {},
     "output_type": "execute_result"
    }
   ],
   "source": [
    "from scipy.stats import chi2_contingency\n",
    "\n",
    "chi2_contingency(tablica_kontyngencji)"
   ]
  },
  {
   "cell_type": "code",
   "execution_count": 15,
   "id": "fdc98188",
   "metadata": {},
   "outputs": [
    {
     "name": "stdout",
     "output_type": "stream",
     "text": [
      "Statystyka: 89.24295065190263, p-value: 0.0, df: 1\n"
     ]
    }
   ],
   "source": [
    "statystyka, p_value, df, expected = chi2_contingency(tablica_kontyngencji)\n",
    "\n",
    "print(f\"Statystyka: {statystyka}, p-value: {np.round(p_value,5)}, df: {df}\")"
   ]
  },
  {
   "cell_type": "markdown",
   "id": "8acb89f2",
   "metadata": {},
   "source": [
    "Wartość p < 0.05, więc mamy podstawy do odrzucenia hipotezy zerowej. Oznacza to, że poziom pm10 i kategoria temperatury nie są niezależne."
   ]
  },
  {
   "cell_type": "markdown",
   "id": "94fc18ed",
   "metadata": {},
   "source": [
    "# Test propocji\n",
    "\n",
    "H0: odsetek palaczy wśród mężczyzn i kobiet jest taki sam\n",
    "\n",
    "H1: odsetek palaczy wśród mężczyzn i kobiet nie jest taki sam\n",
    "\n",
    "Poziom istotności: 0.05"
   ]
  },
  {
   "cell_type": "code",
   "execution_count": 16,
   "id": "65485a81",
   "metadata": {},
   "outputs": [
    {
     "data": {
      "text/plain": [
       "array([0.4       , 0.41666667])"
      ]
     },
     "execution_count": 16,
     "metadata": {},
     "output_type": "execute_result"
    }
   ],
   "source": [
    "palacze = np.array([200, 250])\n",
    "ogolem = np.array([500, 600])\n",
    "palacze/ogolem"
   ]
  },
  {
   "cell_type": "code",
   "execution_count": 18,
   "id": "7bdc8778",
   "metadata": {},
   "outputs": [
    {
     "name": "stdout",
     "output_type": "stream",
     "text": [
      "Statystyka: -0.5598127485064209, p-value: 0.57561\n"
     ]
    }
   ],
   "source": [
    "from statsmodels.stats.proportion import proportions_ztest\n",
    "\n",
    "statystyka, p_value = proportions_ztest(palacze, ogolem)\n",
    "\n",
    "print(f\"Statystyka: {statystyka}, p-value: {np.round(p_value,5)}\")"
   ]
  },
  {
   "cell_type": "markdown",
   "id": "94825244",
   "metadata": {},
   "source": [
    "Wartość p-value > 0.05, więc nie mamy podstaw do odrzucenia hipotezy zerowej. Oznacza to, że odsetek palaczy wśród mężczyzn i kobiet jest taki sam."
   ]
  },
  {
   "cell_type": "markdown",
   "id": "f1efa6e3",
   "metadata": {},
   "source": [
    "# Test normalności\n",
    "\n",
    "HO: rozkład temperatury jest normalny\n",
    "\n",
    "H1: rozkład temperatury nie jest normalny\n",
    "\n",
    "Poziom istotności: 0.05"
   ]
  },
  {
   "cell_type": "code",
   "execution_count": 22,
   "id": "198818c8",
   "metadata": {},
   "outputs": [
    {
     "name": "stdout",
     "output_type": "stream",
     "text": [
      "Statystyka: 0.9834148126689464, p-value: 0.0\n"
     ]
    }
   ],
   "source": [
    "from scipy.stats import shapiro, kstest\n",
    "\n",
    "shapiro(smog[\"t2m_mean_daily\"])\n",
    "\n",
    "statystyka, p_value = shapiro(smog[\"t2m_mean_daily\"])\n",
    "print(f\"Statystyka: {statystyka}, p-value: {np.round(p_value,5)}\")"
   ]
  },
  {
   "cell_type": "markdown",
   "id": "c5be2869",
   "metadata": {},
   "source": [
    "Wartość p < 0.05, więc mamy podstawy do odrzucenia hipotezy zerowej. Oznacza to, że rozkład temperatury nie jest normalny."
   ]
  },
  {
   "cell_type": "code",
   "execution_count": 23,
   "id": "9e637e97",
   "metadata": {},
   "outputs": [
    {
     "name": "stdout",
     "output_type": "stream",
     "text": [
      "Statystyka: 0.78831229959618, p-value: 0.0\n"
     ]
    }
   ],
   "source": [
    "kstest(smog[\"t2m_mean_daily\"], 'norm')\n",
    "\n",
    "statystyka, p_value = kstest(smog[\"t2m_mean_daily\"], 'norm')\n",
    "print(f\"Statystyka: {statystyka}, p-value: {np.round(p_value,5)}\")"
   ]
  },
  {
   "cell_type": "markdown",
   "id": "759ca587",
   "metadata": {},
   "source": [
    "Wartość p < 0.05, więc mamy podstawy do odrzucenia hipotezy zerowej. Oznacza to, że rozkład temperatury nie jest normalny."
   ]
  },
  {
   "cell_type": "code",
   "execution_count": null,
   "id": "ad7ef54f",
   "metadata": {},
   "outputs": [
    {
     "data": {
      "image/png": "[encoded data removed]",
      "text/plain": [
       "<Figure size 640x480 with 1 Axes>"
      ]
     },
     "execution_count": 24,
     "metadata": {},
     "output_type": "execute_result"
    },
    {
     "data": {
      "image/png": "[encoded data removed]",
      "text/plain": [
       "<Figure size 640x480 with 1 Axes>"
      ]
     },
     "metadata": {},
     "output_type": "display_data"
    }
   ],
   "source": [
    "# Wykres kwantyl-kwantyl\n",
    "\n",
    "from statsmodels.graphics.gofplots import qqplot\n",
    "\n",
    "qqplot(smog[\"t2m_mean_daily\"], line='s')"
   ]
  },
  {
   "cell_type": "markdown",
   "id": "c0b0752e",
   "metadata": {},
   "source": [
    "# Test dla dwóch prób zależnych\n",
    "\n",
    "H0: minimalna i mksymalna temperatura są takie same\n",
    "\n",
    "H1: minimalna i mksymalna temperatura są różne\n",
    "\n",
    "Poziom istotności: 0.05"
   ]
  },
  {
   "cell_type": "code",
   "execution_count": 28,
   "id": "8452aa35",
   "metadata": {},
   "outputs": [
    {
     "data": {
      "text/plain": [
       "WilcoxonResult(statistic=np.float64(0.0), pvalue=np.float64(1.4305239047299807e-61))"
      ]
     },
     "execution_count": 28,
     "metadata": {},
     "output_type": "execute_result"
    }
   ],
   "source": [
    "from scipy.stats import wilcoxon\n",
    "\n",
    "wilcoxon(smog2017['tmin_daily'], smog2017['tmax_daily'])"
   ]
  },
  {
   "cell_type": "code",
   "execution_count": 29,
   "id": "91c06a20",
   "metadata": {},
   "outputs": [
    {
     "name": "stdout",
     "output_type": "stream",
     "text": [
      "Statystyka: 0.0, p-value: 0.0\n"
     ]
    }
   ],
   "source": [
    "statystyka, p_value = wilcoxon(smog2017['tmin_daily'], smog2017['tmax_daily'])\n",
    "print(f\"Statystyka: {statystyka}, p-value: {np.round(p_value,5)}\")"
   ]
  },
  {
   "cell_type": "markdown",
   "id": "2ffdd434",
   "metadata": {},
   "source": [
    "Wartość p < 0.05, więc mamy podstawy do odrzucenia hipotezy zerowej. Minimalna i maksymalna temperatura są różne."
   ]
  },
  {
   "cell_type": "code",
   "execution_count": 30,
   "id": "f1f11b9e",
   "metadata": {},
   "outputs": [
    {
     "data": {
      "text/plain": [
       "TtestResult(statistic=np.float64(-40.18165022951711), pvalue=np.float64(7.073981723467218e-136), df=np.int64(364))"
      ]
     },
     "execution_count": 30,
     "metadata": {},
     "output_type": "execute_result"
    }
   ],
   "source": [
    "from scipy.stats import ttest_rel, ttest_ind\n",
    "\n",
    "ttest_rel(smog2017['tmin_daily'], smog2017['tmax_daily'])"
   ]
  },
  {
   "cell_type": "markdown",
   "id": "bc82faf6",
   "metadata": {},
   "source": [
    "# Test dla dwóch prób niezależnych\n",
    "\n",
    "H0: średnia temperatura w grupach pm10 jest taka sama\n",
    "\n",
    "H1: średnia temperatura w grupach pm10 jest różna\n",
    "\n",
    "Poziom istotności: 0.05"
   ]
  },
  {
   "cell_type": "code",
   "execution_count": 31,
   "id": "07cf2759",
   "metadata": {},
   "outputs": [
    {
     "data": {
      "text/plain": [
       "MannwhitneyuResult(statistic=np.float64(3819.5), pvalue=np.float64(8.38008470146249e-27))"
      ]
     },
     "execution_count": 31,
     "metadata": {},
     "output_type": "execute_result"
    }
   ],
   "source": [
    "from scipy.stats import mannwhitneyu\n",
    "\n",
    "grupa1 = smog2017[smog2017['pm10_poziom'] == 'powyższony']['t2m_mean_daily']\n",
    "grupa2 = smog2017[smog2017['pm10_poziom'] == 'w normie']['t2m_mean_daily']\n",
    "\n",
    "mannwhitneyu(grupa1, grupa2)"
   ]
  },
  {
   "cell_type": "markdown",
   "id": "930e1e0d",
   "metadata": {},
   "source": [
    "Wartość p < 0.05, więc mamy podstawy do odrzucenia hipotezy zerowej. Średnia temperatura w grupach pm10 jest różna."
   ]
  },
  {
   "cell_type": "markdown",
   "id": "7b08a7bd",
   "metadata": {},
   "source": [
    "# Test dla wielu grup\n",
    "\n",
    "H0: średnia temperatura w kwartałach jest taka sama\n",
    "\n",
    "H1: istnieje co najmniej jedna para kwartałów, w których średnia temperatura jest różna\n",
    "\n",
    "Poziom istotności: 0.05\n",
    "\n"
   ]
  },
  {
   "cell_type": "code",
   "execution_count": 34,
   "id": "056faf7e",
   "metadata": {},
   "outputs": [
    {
     "name": "stdout",
     "output_type": "stream",
     "text": [
      "Statystyka: 235.07781183253738, p-value: 0.0\n"
     ]
    }
   ],
   "source": [
    "from scipy.stats import kruskal\n",
    "\n",
    "# smog2017['t2m_mean_daily'] = smog2017['t2m_mean_daily'].fillna(smog2017['t2m_mean_daily'].mean())\n",
    "\n",
    "kwartal1 = smog2017[smog2017['kwartal'] == \"Kwartał 1\"]['t2m_mean_daily']\n",
    "kwartal2 = smog2017[smog2017['kwartal'] == \"Kwartał 2\"]['t2m_mean_daily']\n",
    "kwartal3 = smog2017[smog2017['kwartal'] == \"Kwartał 3\"]['t2m_mean_daily']\n",
    "kwartal4 = smog2017[smog2017['kwartal'] == \"Kwartał 4\"]['t2m_mean_daily']\n",
    "\n",
    "statystyka, p_value = kruskal(kwartal1, kwartal2, kwartal3, kwartal4)\n",
    "print(f\"Statystyka: {statystyka}, p-value: {np.round(p_value,5)}\")"
   ]
  },
  {
   "cell_type": "markdown",
   "id": "b0d95a9a",
   "metadata": {},
   "source": [
    "Wartość p < 0.05, więc mamy podstawy do odrzucenia hipotezy zerowej. Istnieje co najmniej jedna para kwartałów, w których średnia temperatura jest różna."
   ]
  },
  {
   "cell_type": "code",
   "execution_count": null,
   "id": "33aeef8a",
   "metadata": {},
   "outputs": [],
   "source": [
    "! pip install scikit-posthocs"
   ]
  },
  {
   "cell_type": "code",
   "execution_count": 38,
   "id": "52607026",
   "metadata": {},
   "outputs": [
    {
     "name": "stdout",
     "output_type": "stream",
     "text": [
      "           Kwartał 1  Kwartał 2  Kwartał 3  Kwartał 4\n",
      "Kwartał 1    1.00000    0.00000    0.00000    0.00129\n",
      "Kwartał 2    0.00000    1.00000    0.00129    0.00000\n",
      "Kwartał 3    0.00000    0.00129    1.00000    0.00000\n",
      "Kwartał 4    0.00129    0.00000    0.00000    1.00000\n"
     ]
    }
   ],
   "source": [
    "from scikit_posthocs import posthoc_dunn\n",
    "\n",
    "dunn_results = posthoc_dunn(smog2017, val_col='t2m_mean_daily', group_col='kwartal', p_adjust='holm')\n",
    "print(np.round(dunn_results,5))"
   ]
  },
  {
   "cell_type": "markdown",
   "id": "7a0b38af",
   "metadata": {},
   "source": [
    "Wszystkie kwartały różnią się od siebie istotnie statystycznie."
   ]
  },
  {
   "cell_type": "markdown",
   "id": "44f96233",
   "metadata": {},
   "source": [
    "## Test ANOVA"
   ]
  },
  {
   "cell_type": "code",
   "execution_count": 39,
   "id": "b844f059",
   "metadata": {},
   "outputs": [
    {
     "name": "stdout",
     "output_type": "stream",
     "text": [
      "Statystyka F: 197.46183154364854, p-value: 0.0\n"
     ]
    }
   ],
   "source": [
    "from scipy.stats import f_oneway\n",
    "\n",
    "f_stat, p_value = f_oneway(kwartal1, kwartal2, kwartal3, kwartal4)\n",
    "print(f\"Statystyka F: {f_stat}, p-value: {np.round(p_value,5)}\")"
   ]
  },
  {
   "cell_type": "code",
   "execution_count": 41,
   "id": "776e0f21",
   "metadata": {},
   "outputs": [
    {
     "name": "stdout",
     "output_type": "stream",
     "text": [
      "    Multiple Comparison of Means - Tukey HSD, FWER=0.05    \n",
      "===========================================================\n",
      "  group1    group2  meandiff p-adj  lower    upper   reject\n",
      "-----------------------------------------------------------\n",
      "Kwartał 1 Kwartał 2  13.2681   0.0  11.2298  15.3064   True\n",
      "Kwartał 1 Kwartał 3  17.3619   0.0  15.3291  19.3946   True\n",
      "Kwartał 1 Kwartał 4   5.1891   0.0   3.1563   7.2218   True\n",
      "Kwartał 2 Kwartał 3   4.0938   0.0   2.0667   6.1209   True\n",
      "Kwartał 2 Kwartał 4   -8.079   0.0 -10.1061  -6.0519   True\n",
      "Kwartał 3 Kwartał 4 -12.1728   0.0 -14.1944 -10.1513   True\n",
      "-----------------------------------------------------------\n"
     ]
    }
   ],
   "source": [
    "from statsmodels.stats.multicomp import pairwise_tukeyhsd\n",
    "\n",
    "tukey_results = pairwise_tukeyhsd(smog2017['t2m_mean_daily'], smog2017['kwartal'], alpha=0.05)\n",
    "print(tukey_results)"
   ]
  }
 ],
 "metadata": {
  "kernelspec": {
   "display_name": "venv",
   "language": "python",
   "name": "python3"
  },
  "language_info": {
   "codemirror_mode": {
    "name": "ipython",
    "version": 3
   },
   "file_extension": ".py",
   "mimetype": "text/x-python",
   "name": "python",
   "nbconvert_exporter": "python",
   "pygments_lexer": "ipython3",
   "version": "3.13.3"
  }
 },
 "nbformat": 4,
 "nbformat_minor": 5
}
