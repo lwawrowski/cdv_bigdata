{
 "cells": [
  {
   "cell_type": "markdown",
   "id": "2a361706",
   "metadata": {},
   "source": [
    "# Dane\n",
    "\n",
    "Wczytanie i przygotowanie danych do modelu ML."
   ]
  },
  {
   "cell_type": "code",
   "execution_count": 3,
   "id": "22ca2360",
   "metadata": {},
   "outputs": [
    {
     "data": {
      "application/vnd.microsoft.datawrangler.viewer.v0+json": {
       "columns": [
        {
         "name": "index",
         "rawType": "int64",
         "type": "integer"
        },
        {
         "name": "Age",
         "rawType": "int64",
         "type": "integer"
        },
        {
         "name": "Sex",
         "rawType": "object",
         "type": "string"
        },
        {
         "name": "Job",
         "rawType": "int64",
         "type": "integer"
        },
        {
         "name": "Housing",
         "rawType": "object",
         "type": "string"
        },
        {
         "name": "Saving accounts",
         "rawType": "object",
         "type": "unknown"
        },
        {
         "name": "Checking account",
         "rawType": "object",
         "type": "unknown"
        },
        {
         "name": "Credit amount",
         "rawType": "int64",
         "type": "integer"
        },
        {
         "name": "Duration",
         "rawType": "int64",
         "type": "integer"
        },
        {
         "name": "Purpose",
         "rawType": "object",
         "type": "string"
        },
        {
         "name": "Risk",
         "rawType": "object",
         "type": "string"
        }
       ],
       "conversionMethod": "pd.DataFrame",
       "ref": "8a6a35a8-ea3d-4a5a-8f86-48930b6b9976",
       "rows": [
        [
         "0",
         "67",
         "male",
         "2",
         "own",
         null,
         "little",
         "1169",
         "6",
         "radio/TV",
         "good"
        ],
        [
         "1",
         "22",
         "female",
         "2",
         "own",
         "little",
         "moderate",
         "5951",
         "48",
         "radio/TV",
         "bad"
        ],
        [
         "2",
         "49",
         "male",
         "1",
         "own",
         "little",
         null,
         "2096",
         "12",
         "education",
         "good"
        ],
        [
         "3",
         "45",
         "male",
         "2",
         "free",
         "little",
         "little",
         "7882",
         "42",
         "furniture/equipment",
         "good"
        ],
        [
         "4",
         "53",
         "male",
         "2",
         "free",
         "little",
         "little",
         "4870",
         "24",
         "car",
         "bad"
        ]
       ],
       "shape": {
        "columns": 10,
        "rows": 5
       }
      },
      "text/html": [
       "<div>\n",
       "<style scoped>\n",
       "    .dataframe tbody tr th:only-of-type {\n",
       "        vertical-align: middle;\n",
       "    }\n",
       "\n",
       "    .dataframe tbody tr th {\n",
       "        vertical-align: top;\n",
       "    }\n",
       "\n",
       "    .dataframe thead th {\n",
       "        text-align: right;\n",
       "    }\n",
       "</style>\n",
       "<table border=\"1\" class=\"dataframe\">\n",
       "  <thead>\n",
       "    <tr style=\"text-align: right;\">\n",
       "      <th></th>\n",
       "      <th>Age</th>\n",
       "      <th>Sex</th>\n",
       "      <th>Job</th>\n",
       "      <th>Housing</th>\n",
       "      <th>Saving accounts</th>\n",
       "      <th>Checking account</th>\n",
       "      <th>Credit amount</th>\n",
       "      <th>Duration</th>\n",
       "      <th>Purpose</th>\n",
       "      <th>Risk</th>\n",
       "    </tr>\n",
       "  </thead>\n",
       "  <tbody>\n",
       "    <tr>\n",
       "      <th>0</th>\n",
       "      <td>67</td>\n",
       "      <td>male</td>\n",
       "      <td>2</td>\n",
       "      <td>own</td>\n",
       "      <td>NaN</td>\n",
       "      <td>little</td>\n",
       "      <td>1169</td>\n",
       "      <td>6</td>\n",
       "      <td>radio/TV</td>\n",
       "      <td>good</td>\n",
       "    </tr>\n",
       "    <tr>\n",
       "      <th>1</th>\n",
       "      <td>22</td>\n",
       "      <td>female</td>\n",
       "      <td>2</td>\n",
       "      <td>own</td>\n",
       "      <td>little</td>\n",
       "      <td>moderate</td>\n",
       "      <td>5951</td>\n",
       "      <td>48</td>\n",
       "      <td>radio/TV</td>\n",
       "      <td>bad</td>\n",
       "    </tr>\n",
       "    <tr>\n",
       "      <th>2</th>\n",
       "      <td>49</td>\n",
       "      <td>male</td>\n",
       "      <td>1</td>\n",
       "      <td>own</td>\n",
       "      <td>little</td>\n",
       "      <td>NaN</td>\n",
       "      <td>2096</td>\n",
       "      <td>12</td>\n",
       "      <td>education</td>\n",
       "      <td>good</td>\n",
       "    </tr>\n",
       "    <tr>\n",
       "      <th>3</th>\n",
       "      <td>45</td>\n",
       "      <td>male</td>\n",
       "      <td>2</td>\n",
       "      <td>free</td>\n",
       "      <td>little</td>\n",
       "      <td>little</td>\n",
       "      <td>7882</td>\n",
       "      <td>42</td>\n",
       "      <td>furniture/equipment</td>\n",
       "      <td>good</td>\n",
       "    </tr>\n",
       "    <tr>\n",
       "      <th>4</th>\n",
       "      <td>53</td>\n",
       "      <td>male</td>\n",
       "      <td>2</td>\n",
       "      <td>free</td>\n",
       "      <td>little</td>\n",
       "      <td>little</td>\n",
       "      <td>4870</td>\n",
       "      <td>24</td>\n",
       "      <td>car</td>\n",
       "      <td>bad</td>\n",
       "    </tr>\n",
       "  </tbody>\n",
       "</table>\n",
       "</div>"
      ],
      "text/plain": [
       "   Age     Sex  Job Housing Saving accounts Checking account  Credit amount  \\\n",
       "0   67    male    2     own             NaN           little           1169   \n",
       "1   22  female    2     own          little         moderate           5951   \n",
       "2   49    male    1     own          little              NaN           2096   \n",
       "3   45    male    2    free          little           little           7882   \n",
       "4   53    male    2    free          little           little           4870   \n",
       "\n",
       "   Duration              Purpose  Risk  \n",
       "0         6             radio/TV  good  \n",
       "1        48             radio/TV   bad  \n",
       "2        12            education  good  \n",
       "3        42  furniture/equipment  good  \n",
       "4        24                  car   bad  "
      ]
     },
     "execution_count": 3,
     "metadata": {},
     "output_type": "execute_result"
    }
   ],
   "source": [
    "import pandas as pd\n",
    "\n",
    "credit = pd.read_csv('data/german_credit_data.csv')\n",
    "\n",
    "credit.head()"
   ]
  },
  {
   "cell_type": "markdown",
   "id": "63f1dd9b",
   "metadata": {},
   "source": [
    "# Czyszczenie nazw kolumn"
   ]
  },
  {
   "cell_type": "code",
   "execution_count": 4,
   "id": "313eea54",
   "metadata": {},
   "outputs": [
    {
     "data": {
      "text/plain": [
       "Index(['age', 'sex', 'job', 'housing', 'saving_accounts', 'checking_account',\n",
       "       'credit_amount', 'duration', 'purpose', 'risk'],\n",
       "      dtype='object')"
      ]
     },
     "execution_count": 4,
     "metadata": {},
     "output_type": "execute_result"
    }
   ],
   "source": [
    "from janitor import clean_names\n",
    "\n",
    "credit = credit.clean_names()\n",
    "\n",
    "credit.columns"
   ]
  },
  {
   "cell_type": "markdown",
   "id": "231164e9",
   "metadata": {},
   "source": [
    "# Braki danych"
   ]
  },
  {
   "cell_type": "code",
   "execution_count": 5,
   "id": "f250aaa4",
   "metadata": {},
   "outputs": [
    {
     "data": {
      "application/vnd.microsoft.datawrangler.viewer.v0+json": {
       "columns": [
        {
         "name": "index",
         "rawType": "object",
         "type": "string"
        },
        {
         "name": "age",
         "rawType": "float64",
         "type": "float"
        },
        {
         "name": "job",
         "rawType": "float64",
         "type": "float"
        },
        {
         "name": "credit_amount",
         "rawType": "float64",
         "type": "float"
        },
        {
         "name": "duration",
         "rawType": "float64",
         "type": "float"
        }
       ],
       "conversionMethod": "pd.DataFrame",
       "ref": "d531b901-2eae-4dc1-a485-0c6394bb9c0e",
       "rows": [
        [
         "count",
         "1000.0",
         "1000.0",
         "1000.0",
         "1000.0"
        ],
        [
         "mean",
         "35.546",
         "1.904",
         "3271.258",
         "20.903"
        ],
        [
         "std",
         "11.375468574317512",
         "0.6536139619157559",
         "2822.7368759604406",
         "12.058814452756375"
        ],
        [
         "min",
         "19.0",
         "0.0",
         "250.0",
         "4.0"
        ],
        [
         "25%",
         "27.0",
         "2.0",
         "1365.5",
         "12.0"
        ],
        [
         "50%",
         "33.0",
         "2.0",
         "2319.5",
         "18.0"
        ],
        [
         "75%",
         "42.0",
         "2.0",
         "3972.25",
         "24.0"
        ],
        [
         "max",
         "75.0",
         "3.0",
         "18424.0",
         "72.0"
        ]
       ],
       "shape": {
        "columns": 4,
        "rows": 8
       }
      },
      "text/html": [
       "<div>\n",
       "<style scoped>\n",
       "    .dataframe tbody tr th:only-of-type {\n",
       "        vertical-align: middle;\n",
       "    }\n",
       "\n",
       "    .dataframe tbody tr th {\n",
       "        vertical-align: top;\n",
       "    }\n",
       "\n",
       "    .dataframe thead th {\n",
       "        text-align: right;\n",
       "    }\n",
       "</style>\n",
       "<table border=\"1\" class=\"dataframe\">\n",
       "  <thead>\n",
       "    <tr style=\"text-align: right;\">\n",
       "      <th></th>\n",
       "      <th>age</th>\n",
       "      <th>job</th>\n",
       "      <th>credit_amount</th>\n",
       "      <th>duration</th>\n",
       "    </tr>\n",
       "  </thead>\n",
       "  <tbody>\n",
       "    <tr>\n",
       "      <th>count</th>\n",
       "      <td>1000.000000</td>\n",
       "      <td>1000.000000</td>\n",
       "      <td>1000.000000</td>\n",
       "      <td>1000.000000</td>\n",
       "    </tr>\n",
       "    <tr>\n",
       "      <th>mean</th>\n",
       "      <td>35.546000</td>\n",
       "      <td>1.904000</td>\n",
       "      <td>3271.258000</td>\n",
       "      <td>20.903000</td>\n",
       "    </tr>\n",
       "    <tr>\n",
       "      <th>std</th>\n",
       "      <td>11.375469</td>\n",
       "      <td>0.653614</td>\n",
       "      <td>2822.736876</td>\n",
       "      <td>12.058814</td>\n",
       "    </tr>\n",
       "    <tr>\n",
       "      <th>min</th>\n",
       "      <td>19.000000</td>\n",
       "      <td>0.000000</td>\n",
       "      <td>250.000000</td>\n",
       "      <td>4.000000</td>\n",
       "    </tr>\n",
       "    <tr>\n",
       "      <th>25%</th>\n",
       "      <td>27.000000</td>\n",
       "      <td>2.000000</td>\n",
       "      <td>1365.500000</td>\n",
       "      <td>12.000000</td>\n",
       "    </tr>\n",
       "    <tr>\n",
       "      <th>50%</th>\n",
       "      <td>33.000000</td>\n",
       "      <td>2.000000</td>\n",
       "      <td>2319.500000</td>\n",
       "      <td>18.000000</td>\n",
       "    </tr>\n",
       "    <tr>\n",
       "      <th>75%</th>\n",
       "      <td>42.000000</td>\n",
       "      <td>2.000000</td>\n",
       "      <td>3972.250000</td>\n",
       "      <td>24.000000</td>\n",
       "    </tr>\n",
       "    <tr>\n",
       "      <th>max</th>\n",
       "      <td>75.000000</td>\n",
       "      <td>3.000000</td>\n",
       "      <td>18424.000000</td>\n",
       "      <td>72.000000</td>\n",
       "    </tr>\n",
       "  </tbody>\n",
       "</table>\n",
       "</div>"
      ],
      "text/plain": [
       "               age          job  credit_amount     duration\n",
       "count  1000.000000  1000.000000    1000.000000  1000.000000\n",
       "mean     35.546000     1.904000    3271.258000    20.903000\n",
       "std      11.375469     0.653614    2822.736876    12.058814\n",
       "min      19.000000     0.000000     250.000000     4.000000\n",
       "25%      27.000000     2.000000    1365.500000    12.000000\n",
       "50%      33.000000     2.000000    2319.500000    18.000000\n",
       "75%      42.000000     2.000000    3972.250000    24.000000\n",
       "max      75.000000     3.000000   18424.000000    72.000000"
      ]
     },
     "execution_count": 5,
     "metadata": {},
     "output_type": "execute_result"
    }
   ],
   "source": [
    "credit.describe()"
   ]
  },
  {
   "cell_type": "code",
   "execution_count": 12,
   "id": "6bd136ee",
   "metadata": {},
   "outputs": [],
   "source": [
    "# credit[\"checking_account\"].isna().sum()\n",
    "credit_nan = credit[~credit[\"checking_account\"].isna() & ~credit[\"saving_accounts\"].isna()]"
   ]
  },
  {
   "cell_type": "code",
   "execution_count": 13,
   "id": "6f76b23d",
   "metadata": {},
   "outputs": [
    {
     "data": {
      "text/plain": [
       "checking_account\n",
       "little      274\n",
       "moderate    269\n",
       "rich         63\n",
       "Name: count, dtype: int64"
      ]
     },
     "execution_count": 13,
     "metadata": {},
     "output_type": "execute_result"
    }
   ],
   "source": [
    "credit[\"checking_account\"].value_counts()"
   ]
  },
  {
   "cell_type": "code",
   "execution_count": 16,
   "id": "204908dc",
   "metadata": {},
   "outputs": [
    {
     "data": {
      "text/plain": [
       "'little'"
      ]
     },
     "execution_count": 16,
     "metadata": {},
     "output_type": "execute_result"
    }
   ],
   "source": [
    "check_acc = credit[\"checking_account\"].mode()[0]\n",
    "check_acc"
   ]
  },
  {
   "cell_type": "code",
   "execution_count": 17,
   "id": "4e285813",
   "metadata": {},
   "outputs": [
    {
     "data": {
      "text/plain": [
       "checking_account\n",
       "little      668\n",
       "moderate    269\n",
       "rich         63\n",
       "Name: count, dtype: int64"
      ]
     },
     "execution_count": 17,
     "metadata": {},
     "output_type": "execute_result"
    }
   ],
   "source": [
    "credit[\"checking_account\"] = credit[\"checking_account\"].fillna(check_acc)\n",
    "credit[\"checking_account\"].value_counts()"
   ]
  },
  {
   "cell_type": "code",
   "execution_count": 20,
   "id": "23381e66",
   "metadata": {},
   "outputs": [],
   "source": [
    "from sklearn.impute import SimpleImputer\n",
    "\n",
    "imputer = SimpleImputer(strategy=\"most_frequent\")\n",
    "credit[['saving_accounts']] = imputer.fit_transform(credit[['saving_accounts']])"
   ]
  },
  {
   "cell_type": "markdown",
   "id": "ece19b84",
   "metadata": {},
   "source": [
    "# Usuwanie duplikatów"
   ]
  },
  {
   "cell_type": "code",
   "execution_count": 21,
   "id": "3af5b747",
   "metadata": {},
   "outputs": [],
   "source": [
    "credit_dedup = credit.drop_duplicates()"
   ]
  },
  {
   "cell_type": "markdown",
   "id": "f254ffbc",
   "metadata": {},
   "source": [
    "# Inżynieria cech"
   ]
  },
  {
   "cell_type": "code",
   "execution_count": 25,
   "id": "2bde30ea",
   "metadata": {},
   "outputs": [],
   "source": [
    "credit[\"age_groups\"] = pd.cut(credit[\"age\"], \n",
    "                              bins=[0, 30, 40, 50, 60, 70, 80], \n",
    "                              labels=[\"<30\", \"30-40\", \"40-50\", \"50-60\", \"60-70\", \"70+\"])\n",
    "credit[\"installment_rate\"] = credit[\"credit_amount\"] / credit[\"duration\"]\n",
    "credit[\"credit_age\"] = credit[\"age\"] + credit[\"duration\"]/12\n",
    "credit[\"credit_age_rate\"] = credit[\"credit_amount\"] / credit[\"age\"]"
   ]
  },
  {
   "cell_type": "markdown",
   "id": "186009eb",
   "metadata": {},
   "source": [
    "# One hot encoding"
   ]
  },
  {
   "cell_type": "code",
   "execution_count": 27,
   "id": "2fc676cc",
   "metadata": {},
   "outputs": [],
   "source": [
    "categorical_cols = [\"sex\", \"job\", \"housing\", \"saving_accounts\", \"checking_account\", \"purpose\", \"age_groups\"]\n",
    "credit_ohe = pd.get_dummies(credit, columns=categorical_cols, dtype=int)"
   ]
  },
  {
   "cell_type": "code",
   "execution_count": 29,
   "id": "2c13f52a",
   "metadata": {},
   "outputs": [],
   "source": [
    "from sklearn.preprocessing import OneHotEncoder\n",
    "\n",
    "encoder = OneHotEncoder()\n",
    "credit_enc = encoder.fit_transform(credit[categorical_cols])\n",
    "credit_enc_df = pd.DataFrame(credit_enc.toarray(), columns=encoder.get_feature_names_out(categorical_cols))"
   ]
  },
  {
   "cell_type": "markdown",
   "id": "7bd1c1cc",
   "metadata": {},
   "source": [
    "# Normalizacja cech"
   ]
  },
  {
   "cell_type": "code",
   "execution_count": 32,
   "id": "b8125ea7",
   "metadata": {},
   "outputs": [],
   "source": [
    "numeric_cols = [\"age\", \"credit_amount\", \"duration\", \"installment_rate\", \"credit_age\", \"credit_age_rate\"]\n",
    "\n",
    "from sklearn.preprocessing import StandardScaler\n",
    "\n",
    "scaler = StandardScaler()\n",
    "credit_scaled = scaler.fit_transform(credit[numeric_cols])\n",
    "credit_scaled_df = pd.DataFrame(credit_scaled, columns=numeric_cols)"
   ]
  },
  {
   "cell_type": "markdown",
   "id": "25deb539",
   "metadata": {},
   "source": [
    "# Kodowanie etykiet"
   ]
  },
  {
   "cell_type": "code",
   "execution_count": 33,
   "id": "fe1fed28",
   "metadata": {},
   "outputs": [],
   "source": [
    "from sklearn.preprocessing import LabelEncoder\n",
    "\n",
    "le = LabelEncoder()\n",
    "le_risk = le.fit_transform(credit[\"risk\"])"
   ]
  },
  {
   "cell_type": "markdown",
   "id": "89dd1d30",
   "metadata": {},
   "source": [
    "# Finalny zbiór danych"
   ]
  },
  {
   "cell_type": "code",
   "execution_count": 35,
   "id": "0152c30b",
   "metadata": {},
   "outputs": [],
   "source": [
    "credit_final = pd.concat([credit_scaled_df, credit_enc_df, pd.Series(le_risk, name=\"risk\")], axis=1)\n",
    "\n",
    "credit_final.to_csv(\"data/german_credit_final.csv\", index=False)"
   ]
  }
 ],
 "metadata": {
  "kernelspec": {
   "display_name": "venv",
   "language": "python",
   "name": "python3"
  },
  "language_info": {
   "codemirror_mode": {
    "name": "ipython",
    "version": 3
   },
   "file_extension": ".py",
   "mimetype": "text/x-python",
   "name": "python",
   "nbconvert_exporter": "python",
   "pygments_lexer": "ipython3",
   "version": "3.13.3"
  }
 },
 "nbformat": 4,
 "nbformat_minor": 5
}
