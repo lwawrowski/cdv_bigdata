{
 "cells": [
  {
   "cell_type": "code",
   "execution_count": 2,
   "id": "5a62e07c",
   "metadata": {},
   "outputs": [
    {
     "data": {
      "application/vnd.microsoft.datawrangler.viewer.v0+json": {
       "columns": [
        {
         "name": "index",
         "rawType": "int64",
         "type": "integer"
        },
        {
         "name": "klientID",
         "rawType": "int64",
         "type": "integer"
        },
        {
         "name": "plec",
         "rawType": "object",
         "type": "string"
        },
        {
         "name": "wiek",
         "rawType": "int64",
         "type": "integer"
        },
        {
         "name": "roczny_dochod",
         "rawType": "int64",
         "type": "integer"
        },
        {
         "name": "wskaznik_wydatkow",
         "rawType": "int64",
         "type": "integer"
        }
       ],
       "ref": "c3bc5944-69ef-4de6-a962-d12cbc832614",
       "rows": [
        [
         "0",
         "1",
         "Male",
         "19",
         "15",
         "39"
        ],
        [
         "1",
         "2",
         "Male",
         "21",
         "15",
         "81"
        ],
        [
         "2",
         "3",
         "Female",
         "20",
         "16",
         "6"
        ],
        [
         "3",
         "4",
         "Female",
         "23",
         "16",
         "77"
        ],
        [
         "4",
         "5",
         "Female",
         "31",
         "17",
         "40"
        ],
        [
         "5",
         "6",
         "Female",
         "22",
         "17",
         "76"
        ],
        [
         "6",
         "7",
         "Female",
         "35",
         "18",
         "6"
        ],
        [
         "7",
         "8",
         "Female",
         "23",
         "18",
         "94"
        ],
        [
         "8",
         "9",
         "Male",
         "64",
         "19",
         "3"
        ],
        [
         "9",
         "10",
         "Female",
         "30",
         "19",
         "72"
        ],
        [
         "10",
         "11",
         "Male",
         "67",
         "19",
         "14"
        ],
        [
         "11",
         "12",
         "Female",
         "35",
         "19",
         "99"
        ],
        [
         "12",
         "13",
         "Female",
         "58",
         "20",
         "15"
        ],
        [
         "13",
         "14",
         "Female",
         "24",
         "20",
         "77"
        ],
        [
         "14",
         "15",
         "Male",
         "37",
         "20",
         "13"
        ],
        [
         "15",
         "16",
         "Male",
         "22",
         "20",
         "79"
        ],
        [
         "16",
         "17",
         "Female",
         "35",
         "21",
         "35"
        ],
        [
         "17",
         "18",
         "Male",
         "20",
         "21",
         "66"
        ],
        [
         "18",
         "19",
         "Male",
         "52",
         "23",
         "29"
        ],
        [
         "19",
         "20",
         "Female",
         "35",
         "23",
         "98"
        ],
        [
         "20",
         "21",
         "Male",
         "35",
         "24",
         "35"
        ],
        [
         "21",
         "22",
         "Male",
         "25",
         "24",
         "73"
        ],
        [
         "22",
         "23",
         "Female",
         "46",
         "25",
         "5"
        ],
        [
         "23",
         "24",
         "Male",
         "31",
         "25",
         "73"
        ],
        [
         "24",
         "25",
         "Female",
         "54",
         "28",
         "14"
        ],
        [
         "25",
         "26",
         "Male",
         "29",
         "28",
         "82"
        ],
        [
         "26",
         "27",
         "Female",
         "45",
         "28",
         "32"
        ],
        [
         "27",
         "28",
         "Male",
         "35",
         "28",
         "61"
        ],
        [
         "28",
         "29",
         "Female",
         "40",
         "29",
         "31"
        ],
        [
         "29",
         "30",
         "Female",
         "23",
         "29",
         "87"
        ],
        [
         "30",
         "31",
         "Male",
         "60",
         "30",
         "4"
        ],
        [
         "31",
         "32",
         "Female",
         "21",
         "30",
         "73"
        ],
        [
         "32",
         "33",
         "Male",
         "53",
         "33",
         "4"
        ],
        [
         "33",
         "34",
         "Male",
         "18",
         "33",
         "92"
        ],
        [
         "34",
         "35",
         "Female",
         "49",
         "33",
         "14"
        ],
        [
         "35",
         "36",
         "Female",
         "21",
         "33",
         "81"
        ],
        [
         "36",
         "37",
         "Female",
         "42",
         "34",
         "17"
        ],
        [
         "37",
         "38",
         "Female",
         "30",
         "34",
         "73"
        ],
        [
         "38",
         "39",
         "Female",
         "36",
         "37",
         "26"
        ],
        [
         "39",
         "40",
         "Female",
         "20",
         "37",
         "75"
        ],
        [
         "40",
         "41",
         "Female",
         "65",
         "38",
         "35"
        ],
        [
         "41",
         "42",
         "Male",
         "24",
         "38",
         "92"
        ],
        [
         "42",
         "43",
         "Male",
         "48",
         "39",
         "36"
        ],
        [
         "43",
         "44",
         "Female",
         "31",
         "39",
         "61"
        ],
        [
         "44",
         "45",
         "Female",
         "49",
         "39",
         "28"
        ],
        [
         "45",
         "46",
         "Female",
         "24",
         "39",
         "65"
        ],
        [
         "46",
         "47",
         "Female",
         "50",
         "40",
         "55"
        ],
        [
         "47",
         "48",
         "Female",
         "27",
         "40",
         "47"
        ],
        [
         "48",
         "49",
         "Female",
         "29",
         "40",
         "42"
        ],
        [
         "49",
         "50",
         "Female",
         "31",
         "40",
         "42"
        ]
       ],
       "shape": {
        "columns": 5,
        "rows": 200
       }
      },
      "text/html": [
       "<div>\n",
       "<style scoped>\n",
       "    .dataframe tbody tr th:only-of-type {\n",
       "        vertical-align: middle;\n",
       "    }\n",
       "\n",
       "    .dataframe tbody tr th {\n",
       "        vertical-align: top;\n",
       "    }\n",
       "\n",
       "    .dataframe thead th {\n",
       "        text-align: right;\n",
       "    }\n",
       "</style>\n",
       "<table border=\"1\" class=\"dataframe\">\n",
       "  <thead>\n",
       "    <tr style=\"text-align: right;\">\n",
       "      <th></th>\n",
       "      <th>klientID</th>\n",
       "      <th>plec</th>\n",
       "      <th>wiek</th>\n",
       "      <th>roczny_dochod</th>\n",
       "      <th>wskaznik_wydatkow</th>\n",
       "    </tr>\n",
       "  </thead>\n",
       "  <tbody>\n",
       "    <tr>\n",
       "      <th>0</th>\n",
       "      <td>1</td>\n",
       "      <td>Male</td>\n",
       "      <td>19</td>\n",
       "      <td>15</td>\n",
       "      <td>39</td>\n",
       "    </tr>\n",
       "    <tr>\n",
       "      <th>1</th>\n",
       "      <td>2</td>\n",
       "      <td>Male</td>\n",
       "      <td>21</td>\n",
       "      <td>15</td>\n",
       "      <td>81</td>\n",
       "    </tr>\n",
       "    <tr>\n",
       "      <th>2</th>\n",
       "      <td>3</td>\n",
       "      <td>Female</td>\n",
       "      <td>20</td>\n",
       "      <td>16</td>\n",
       "      <td>6</td>\n",
       "    </tr>\n",
       "    <tr>\n",
       "      <th>3</th>\n",
       "      <td>4</td>\n",
       "      <td>Female</td>\n",
       "      <td>23</td>\n",
       "      <td>16</td>\n",
       "      <td>77</td>\n",
       "    </tr>\n",
       "    <tr>\n",
       "      <th>4</th>\n",
       "      <td>5</td>\n",
       "      <td>Female</td>\n",
       "      <td>31</td>\n",
       "      <td>17</td>\n",
       "      <td>40</td>\n",
       "    </tr>\n",
       "    <tr>\n",
       "      <th>...</th>\n",
       "      <td>...</td>\n",
       "      <td>...</td>\n",
       "      <td>...</td>\n",
       "      <td>...</td>\n",
       "      <td>...</td>\n",
       "    </tr>\n",
       "    <tr>\n",
       "      <th>195</th>\n",
       "      <td>196</td>\n",
       "      <td>Female</td>\n",
       "      <td>35</td>\n",
       "      <td>120</td>\n",
       "      <td>79</td>\n",
       "    </tr>\n",
       "    <tr>\n",
       "      <th>196</th>\n",
       "      <td>197</td>\n",
       "      <td>Female</td>\n",
       "      <td>45</td>\n",
       "      <td>126</td>\n",
       "      <td>28</td>\n",
       "    </tr>\n",
       "    <tr>\n",
       "      <th>197</th>\n",
       "      <td>198</td>\n",
       "      <td>Male</td>\n",
       "      <td>32</td>\n",
       "      <td>126</td>\n",
       "      <td>74</td>\n",
       "    </tr>\n",
       "    <tr>\n",
       "      <th>198</th>\n",
       "      <td>199</td>\n",
       "      <td>Male</td>\n",
       "      <td>32</td>\n",
       "      <td>137</td>\n",
       "      <td>18</td>\n",
       "    </tr>\n",
       "    <tr>\n",
       "      <th>199</th>\n",
       "      <td>200</td>\n",
       "      <td>Male</td>\n",
       "      <td>30</td>\n",
       "      <td>137</td>\n",
       "      <td>83</td>\n",
       "    </tr>\n",
       "  </tbody>\n",
       "</table>\n",
       "<p>200 rows × 5 columns</p>\n",
       "</div>"
      ],
      "text/plain": [
       "     klientID    plec  wiek  roczny_dochod  wskaznik_wydatkow\n",
       "0           1    Male    19             15                 39\n",
       "1           2    Male    21             15                 81\n",
       "2           3  Female    20             16                  6\n",
       "3           4  Female    23             16                 77\n",
       "4           5  Female    31             17                 40\n",
       "..        ...     ...   ...            ...                ...\n",
       "195       196  Female    35            120                 79\n",
       "196       197  Female    45            126                 28\n",
       "197       198    Male    32            126                 74\n",
       "198       199    Male    32            137                 18\n",
       "199       200    Male    30            137                 83\n",
       "\n",
       "[200 rows x 5 columns]"
      ]
     },
     "execution_count": 2,
     "metadata": {},
     "output_type": "execute_result"
    }
   ],
   "source": [
    "import pandas as pd\n",
    "\n",
    "klienci = pd.read_csv(\"data/klienci.csv\")\n",
    "klienci"
   ]
  },
  {
   "cell_type": "code",
   "execution_count": 4,
   "id": "bf1e07ec",
   "metadata": {},
   "outputs": [
    {
     "data": {
      "text/plain": [
       "<Axes: xlabel='roczny_dochod', ylabel='wskaznik_wydatkow'>"
      ]
     },
     "execution_count": 4,
     "metadata": {},
     "output_type": "execute_result"
    },
    {
     "data": {
      "image/png": "[encoded data removed]",
      "text/plain": [
       "<Figure size 640x480 with 1 Axes>"
      ]
     },
     "metadata": {},
     "output_type": "display_data"
    }
   ],
   "source": [
    "import seaborn as sns\n",
    "\n",
    "sns.scatterplot(x = klienci[\"roczny_dochod\"], y = klienci[\"wskaznik_wydatkow\"])"
   ]
  },
  {
   "cell_type": "code",
   "execution_count": 5,
   "id": "e559554c",
   "metadata": {},
   "outputs": [],
   "source": [
    "from sklearn.preprocessing import StandardScaler\n",
    "\n",
    "x = klienci[[\"roczny_dochod\", \"wskaznik_wydatkow\"]]\n",
    "scaler = StandardScaler()\n",
    "z = scaler.fit_transform(x)"
   ]
  },
  {
   "cell_type": "code",
   "execution_count": 40,
   "id": "e3532c6f",
   "metadata": {},
   "outputs": [
    {
     "name": "stdout",
     "output_type": "stream",
     "text": [
      "clusters_kmeans\n",
      "0    81\n",
      "1    39\n",
      "3    35\n",
      "4    23\n",
      "2    22\n",
      "Name: count, dtype: int64\n"
     ]
    },
    {
     "data": {
      "image/png": "[encoded data removed]",
      "text/plain": [
       "<Figure size 640x480 with 1 Axes>"
      ]
     },
     "metadata": {},
     "output_type": "display_data"
    }
   ],
   "source": [
    "from sklearn.cluster import KMeans\n",
    "\n",
    "kmeans = KMeans(n_clusters=5, init='k-means++', random_state=42)\n",
    "clusters_kmeans = kmeans.fit_predict(z)\n",
    "clusters_kmeans\n",
    "\n",
    "klienci[\"clusters_kmeans\"] = clusters_kmeans\n",
    "sns.scatterplot(x = klienci[\"roczny_dochod\"], y = klienci[\"wskaznik_wydatkow\"], hue = klienci[\"clusters_kmeans\"], palette=\"Set1\")\n",
    "print(klienci[\"clusters_kmeans\"].value_counts())"
   ]
  },
  {
   "cell_type": "markdown",
   "id": "994c9e2b",
   "metadata": {},
   "source": [
    "Ustalenie optymalnej liczby klastrów w KMeans"
   ]
  },
  {
   "cell_type": "code",
   "execution_count": null,
   "id": "17781e7b",
   "metadata": {},
   "outputs": [
    {
     "name": "stdout",
     "output_type": "stream",
     "text": [
      "Inertia: [273.66888662642015, 157.70400815035947, 109.22822707921345, 65.56840815571681, 60.13287487193422, 49.66824483736798, 37.31912287833883, 32.49508119910091, 30.059322694042205]\n",
      "Calinski-Harabasz scores: [np.float64(91.40081927586573), np.float64(151.3351212635948), np.float64(173.9210611775394), np.float64(248.64932001536357), np.float64(219.29509412369103), np.float64(226.88550457064687), np.float64(266.5608829108479), np.float64(270.01563352345875), np.float64(259.8148608542566)]\n"
     ]
    }
   ],
   "source": [
    "from sklearn.metrics import calinski_harabasz_score\n",
    "\n",
    "inertia = []\n",
    "ch_scores = []\n",
    "\n",
    "for i in range(2,11):\n",
    "    kmeans = KMeans(n_clusters=i, init='k-means++', random_state=42)\n",
    "    clusters_kmeans = kmeans.fit_predict(z)\n",
    "    inertia.append(kmeans.inertia_) # suma kwadratów odległości punktów od środka klastra\n",
    "    ch_scores.append(calinski_harabasz_score(z, clusters_kmeans))\n",
    "\n",
    "print(\"Inertia:\", inertia)\n",
    "print(\"Calinski-Harabasz scores:\", ch_scores)"
   ]
  },
  {
   "cell_type": "markdown",
   "id": "129f059e",
   "metadata": {},
   "source": [
    "Wykres osypiska"
   ]
  },
  {
   "cell_type": "code",
   "execution_count": 45,
   "id": "8a024466",
   "metadata": {},
   "outputs": [
    {
     "data": {
      "text/plain": [
       "[<matplotlib.lines.Line2D at 0x1b0c9238e10>]"
      ]
     },
     "execution_count": 45,
     "metadata": {},
     "output_type": "execute_result"
    },
    {
     "data": {
      "image/png": "[encoded data removed]",
      "text/plain": [
       "<Figure size 640x480 with 1 Axes>"
      ]
     },
     "metadata": {},
     "output_type": "display_data"
    }
   ],
   "source": [
    "import matplotlib.pyplot as plt\n",
    "\n",
    "plt.plot(range(2, 11), inertia, marker='o')"
   ]
  },
  {
   "cell_type": "code",
   "execution_count": 46,
   "id": "aadd909e",
   "metadata": {},
   "outputs": [
    {
     "data": {
      "text/plain": [
       "[<matplotlib.lines.Line2D at 0x1b0cd2ff110>]"
      ]
     },
     "execution_count": 46,
     "metadata": {},
     "output_type": "execute_result"
    },
    {
     "data": {
      "image/png": "[encoded data removed]",
      "text/plain": [
       "<Figure size 640x480 with 1 Axes>"
      ]
     },
     "metadata": {},
     "output_type": "display_data"
    }
   ],
   "source": [
    "plt.plot(range(2, 11), ch_scores, marker='o')"
   ]
  },
  {
   "cell_type": "code",
   "execution_count": 57,
   "id": "f9d0cd9f",
   "metadata": {},
   "outputs": [
    {
     "data": {
      "application/vnd.microsoft.datawrangler.viewer.v0+json": {
       "columns": [
        {
         "name": "clusters_kmeans",
         "rawType": "int32",
         "type": "integer"
        },
        {
         "name": "roczny_dochod",
         "rawType": "float64",
         "type": "float"
        },
        {
         "name": "wskaznik_wydatkow",
         "rawType": "float64",
         "type": "float"
        }
       ],
       "ref": "f2b8df41-25cc-40a5-818c-06269c79e489",
       "rows": [
        [
         "0",
         "55.2962962962963",
         "49.51851851851852"
        ],
        [
         "1",
         "86.53846153846153",
         "82.12820512820512"
        ],
        [
         "2",
         "25.727272727272727",
         "79.36363636363636"
        ],
        [
         "3",
         "88.2",
         "17.114285714285714"
        ],
        [
         "4",
         "26.304347826086957",
         "20.91304347826087"
        ]
       ],
       "shape": {
        "columns": 2,
        "rows": 5
       }
      },
      "text/html": [
       "<div>\n",
       "<style scoped>\n",
       "    .dataframe tbody tr th:only-of-type {\n",
       "        vertical-align: middle;\n",
       "    }\n",
       "\n",
       "    .dataframe tbody tr th {\n",
       "        vertical-align: top;\n",
       "    }\n",
       "\n",
       "    .dataframe thead th {\n",
       "        text-align: right;\n",
       "    }\n",
       "</style>\n",
       "<table border=\"1\" class=\"dataframe\">\n",
       "  <thead>\n",
       "    <tr style=\"text-align: right;\">\n",
       "      <th></th>\n",
       "      <th>roczny_dochod</th>\n",
       "      <th>wskaznik_wydatkow</th>\n",
       "    </tr>\n",
       "    <tr>\n",
       "      <th>clusters_kmeans</th>\n",
       "      <th></th>\n",
       "      <th></th>\n",
       "    </tr>\n",
       "  </thead>\n",
       "  <tbody>\n",
       "    <tr>\n",
       "      <th>0</th>\n",
       "      <td>55.296296</td>\n",
       "      <td>49.518519</td>\n",
       "    </tr>\n",
       "    <tr>\n",
       "      <th>1</th>\n",
       "      <td>86.538462</td>\n",
       "      <td>82.128205</td>\n",
       "    </tr>\n",
       "    <tr>\n",
       "      <th>2</th>\n",
       "      <td>25.727273</td>\n",
       "      <td>79.363636</td>\n",
       "    </tr>\n",
       "    <tr>\n",
       "      <th>3</th>\n",
       "      <td>88.200000</td>\n",
       "      <td>17.114286</td>\n",
       "    </tr>\n",
       "    <tr>\n",
       "      <th>4</th>\n",
       "      <td>26.304348</td>\n",
       "      <td>20.913043</td>\n",
       "    </tr>\n",
       "  </tbody>\n",
       "</table>\n",
       "</div>"
      ],
      "text/plain": [
       "                 roczny_dochod  wskaznik_wydatkow\n",
       "clusters_kmeans                                  \n",
       "0                    55.296296          49.518519\n",
       "1                    86.538462          82.128205\n",
       "2                    25.727273          79.363636\n",
       "3                    88.200000          17.114286\n",
       "4                    26.304348          20.913043"
      ]
     },
     "execution_count": 57,
     "metadata": {},
     "output_type": "execute_result"
    }
   ],
   "source": [
    "klienci[[\"roczny_dochod\", \"wskaznik_wydatkow\", \"clusters_kmeans\"]].groupby(\"clusters_kmeans\").mean()"
   ]
  },
  {
   "cell_type": "markdown",
   "id": "40a7c42d",
   "metadata": {},
   "source": [
    "# Zadanie"
   ]
  },
  {
   "cell_type": "code",
   "execution_count": 50,
   "id": "4549eaee",
   "metadata": {},
   "outputs": [
    {
     "data": {
      "application/vnd.microsoft.datawrangler.viewer.v0+json": {
       "columns": [
        {
         "name": "index",
         "rawType": "int64",
         "type": "integer"
        },
        {
         "name": "nr",
         "rawType": "int64",
         "type": "integer"
        },
        {
         "name": "marka",
         "rawType": "object",
         "type": "string"
        },
        {
         "name": "model",
         "rawType": "object",
         "type": "string"
        },
        {
         "name": "pojemnosc",
         "rawType": "int64",
         "type": "integer"
        },
        {
         "name": "przebieg",
         "rawType": "int64",
         "type": "integer"
        },
        {
         "name": "lata",
         "rawType": "int64",
         "type": "integer"
        },
        {
         "name": "cena",
         "rawType": "int64",
         "type": "integer"
        },
        {
         "name": "diesel",
         "rawType": "int64",
         "type": "integer"
        }
       ],
       "ref": "ecf054e4-ca9f-4700-b7ce-9675e054af6b",
       "rows": [
        [
         "0",
         "1",
         "Fiat       ",
         "Fiat Seicento                                     ",
         "899",
         "52000",
         "5",
         "9500",
         "0"
        ],
        [
         "1",
         "2",
         "Volkswagen ",
         "Volkswagen Corrado                                ",
         "2000",
         "188000",
         "12",
         "15900",
         "0"
        ],
        [
         "2",
         "4",
         "Ford       ",
         "Ford Focus Combi                                  ",
         "1800",
         "125000",
         "5",
         "27900",
         "1"
        ],
        [
         "3",
         "5",
         "Opel       ",
         "Opel Vectra                                       ",
         "1800",
         "148000",
         "9",
         "16600",
         "0"
        ],
        [
         "4",
         "7",
         "Citroen    ",
         "Citroen Xsara II                                  ",
         "1400",
         "70000",
         "5",
         "20000",
         "0"
        ],
        [
         "5",
         "8",
         "Toyota     ",
         "Toyota Avensis                                    ",
         "1600",
         "105000",
         "6",
         "27500",
         "0"
        ],
        [
         "6",
         "9",
         "BMW        ",
         "BMW 320                                           ",
         "2000",
         "164000",
         "11",
         "15600",
         "0"
        ],
        [
         "7",
         "10",
         "Peugeot    ",
         "Peugeot 206                                       ",
         "1124",
         "72000",
         "6",
         "16000",
         "0"
        ],
        [
         "8",
         "11",
         "Volkswagen ",
         "Volkswagen Golf IV                                ",
         "1400",
         "52000",
         "3",
         "26500",
         "0"
        ],
        [
         "9",
         "12",
         "Audi       ",
         "Audi A3                                           ",
         "1600",
         "108000",
         "5",
         "34000",
         "0"
        ],
        [
         "10",
         "14",
         "Mazda      ",
         "Mazda 323                                         ",
         "1600",
         "188000",
         "13",
         "5000",
         "0"
        ],
        [
         "11",
         "18",
         "Peugeot    ",
         "Peugeot 206                                       ",
         "1100",
         "90300",
         "5",
         "17500",
         "0"
        ],
        [
         "12",
         "20",
         "Subaru     ",
         "Subaru Forester                                   ",
         "2000",
         "153000",
         "7",
         "26500",
         "0"
        ],
        [
         "13",
         "21",
         "Fiat       ",
         "Fiat Marea                                        ",
         "1900",
         "150000",
         "5",
         "19800",
         "1"
        ],
        [
         "14",
         "23",
         "Opel       ",
         "Opel Vectra                                       ",
         "1800",
         "160000",
         "9",
         "14500",
         "0"
        ],
        [
         "15",
         "24",
         "Citroen    ",
         "Citroen C3                                        ",
         "1400",
         "83000",
         "3",
         "27500",
         "0"
        ],
        [
         "16",
         "27",
         "Subaru     ",
         "Subaru IMPREZA                                    ",
         "1600",
         "147000",
         "10",
         "11500",
         "0"
        ],
        [
         "17",
         "28",
         "Renault    ",
         "Renault Megane Kombi                              ",
         "1600",
         "140000",
         "6",
         "19900",
         "0"
        ],
        [
         "18",
         "29",
         "Opel       ",
         "Opel Astra II                                     ",
         "2000",
         "149000",
         "5",
         "27800",
         "1"
        ],
        [
         "19",
         "31",
         "Honda      ",
         "Honda Civic                                       ",
         "1400",
         "147000",
         "9",
         "14400",
         "0"
        ],
        [
         "20",
         "32",
         "Hyundai    ",
         "Hyundai Accent                                    ",
         "1341",
         "180000",
         "7",
         "10900",
         "0"
        ],
        [
         "21",
         "33",
         "Renault    ",
         "Renault Clio III                                  ",
         "1400",
         "90000",
         "4",
         "27900",
         "0"
        ],
        [
         "22",
         "34",
         "Ford       ",
         "Ford Escort Kombi                                 ",
         "1600",
         "118000",
         "10",
         "10500",
         "0"
        ],
        [
         "23",
         "38",
         "BMW        ",
         "BMW 316i coupe                                    ",
         "1600",
         "168000",
         "9",
         "14500",
         "0"
        ],
        [
         "24",
         "39",
         "Opel       ",
         "Opel Corsa-B                                      ",
         "973",
         "65000",
         "6",
         "13500",
         "0"
        ],
        [
         "25",
         "41",
         "Opel       ",
         "Opel Astra II Combi                               ",
         "1700",
         "129000",
         "7",
         "21900",
         "1"
        ],
        [
         "26",
         "43",
         "Skoda      ",
         "Skoda Felicia                                     ",
         "1600",
         "73000",
         "6",
         "13900",
         "0"
        ],
        [
         "27",
         "47",
         "Ford       ",
         "Ford Fiesta                                       ",
         "1300",
         "103000",
         "7",
         "11300",
         "0"
        ],
        [
         "28",
         "50",
         "Fiat       ",
         "Fiat Punto                                        ",
         "1100",
         "56700",
         "7",
         "9900",
         "0"
        ],
        [
         "29",
         "53",
         "Ford       ",
         "Ford KA                                           ",
         "1300",
         "57600",
         "8",
         "9999",
         "0"
        ],
        [
         "30",
         "56",
         "Skoda      ",
         "Skoda Octavia                                     ",
         "1600",
         "136000",
         "6",
         "24900",
         "0"
        ],
        [
         "31",
         "57",
         "Skoda      ",
         "Skoda Felicia PICK-UP                             ",
         "1300",
         "93000",
         "5",
         "13900",
         "0"
        ]
       ],
       "shape": {
        "columns": 8,
        "rows": 32
       }
      },
      "text/html": [
       "<div>\n",
       "<style scoped>\n",
       "    .dataframe tbody tr th:only-of-type {\n",
       "        vertical-align: middle;\n",
       "    }\n",
       "\n",
       "    .dataframe tbody tr th {\n",
       "        vertical-align: top;\n",
       "    }\n",
       "\n",
       "    .dataframe thead th {\n",
       "        text-align: right;\n",
       "    }\n",
       "</style>\n",
       "<table border=\"1\" class=\"dataframe\">\n",
       "  <thead>\n",
       "    <tr style=\"text-align: right;\">\n",
       "      <th></th>\n",
       "      <th>nr</th>\n",
       "      <th>marka</th>\n",
       "      <th>model</th>\n",
       "      <th>pojemnosc</th>\n",
       "      <th>przebieg</th>\n",
       "      <th>lata</th>\n",
       "      <th>cena</th>\n",
       "      <th>diesel</th>\n",
       "    </tr>\n",
       "  </thead>\n",
       "  <tbody>\n",
       "    <tr>\n",
       "      <th>0</th>\n",
       "      <td>1</td>\n",
       "      <td>Fiat</td>\n",
       "      <td>Fiat Seicento                                 ...</td>\n",
       "      <td>899</td>\n",
       "      <td>52000</td>\n",
       "      <td>5</td>\n",
       "      <td>9500</td>\n",
       "      <td>0</td>\n",
       "    </tr>\n",
       "    <tr>\n",
       "      <th>1</th>\n",
       "      <td>2</td>\n",
       "      <td>Volkswagen</td>\n",
       "      <td>Volkswagen Corrado                            ...</td>\n",
       "      <td>2000</td>\n",
       "      <td>188000</td>\n",
       "      <td>12</td>\n",
       "      <td>15900</td>\n",
       "      <td>0</td>\n",
       "    </tr>\n",
       "    <tr>\n",
       "      <th>2</th>\n",
       "      <td>4</td>\n",
       "      <td>Ford</td>\n",
       "      <td>Ford Focus Combi                              ...</td>\n",
       "      <td>1800</td>\n",
       "      <td>125000</td>\n",
       "      <td>5</td>\n",
       "      <td>27900</td>\n",
       "      <td>1</td>\n",
       "    </tr>\n",
       "    <tr>\n",
       "      <th>3</th>\n",
       "      <td>5</td>\n",
       "      <td>Opel</td>\n",
       "      <td>Opel Vectra                                   ...</td>\n",
       "      <td>1800</td>\n",
       "      <td>148000</td>\n",
       "      <td>9</td>\n",
       "      <td>16600</td>\n",
       "      <td>0</td>\n",
       "    </tr>\n",
       "    <tr>\n",
       "      <th>4</th>\n",
       "      <td>7</td>\n",
       "      <td>Citroen</td>\n",
       "      <td>Citroen Xsara II                              ...</td>\n",
       "      <td>1400</td>\n",
       "      <td>70000</td>\n",
       "      <td>5</td>\n",
       "      <td>20000</td>\n",
       "      <td>0</td>\n",
       "    </tr>\n",
       "    <tr>\n",
       "      <th>5</th>\n",
       "      <td>8</td>\n",
       "      <td>Toyota</td>\n",
       "      <td>Toyota Avensis                                ...</td>\n",
       "      <td>1600</td>\n",
       "      <td>105000</td>\n",
       "      <td>6</td>\n",
       "      <td>27500</td>\n",
       "      <td>0</td>\n",
       "    </tr>\n",
       "    <tr>\n",
       "      <th>6</th>\n",
       "      <td>9</td>\n",
       "      <td>BMW</td>\n",
       "      <td>BMW 320                                       ...</td>\n",
       "      <td>2000</td>\n",
       "      <td>164000</td>\n",
       "      <td>11</td>\n",
       "      <td>15600</td>\n",
       "      <td>0</td>\n",
       "    </tr>\n",
       "    <tr>\n",
       "      <th>7</th>\n",
       "      <td>10</td>\n",
       "      <td>Peugeot</td>\n",
       "      <td>Peugeot 206                                   ...</td>\n",
       "      <td>1124</td>\n",
       "      <td>72000</td>\n",
       "      <td>6</td>\n",
       "      <td>16000</td>\n",
       "      <td>0</td>\n",
       "    </tr>\n",
       "    <tr>\n",
       "      <th>8</th>\n",
       "      <td>11</td>\n",
       "      <td>Volkswagen</td>\n",
       "      <td>Volkswagen Golf IV                            ...</td>\n",
       "      <td>1400</td>\n",
       "      <td>52000</td>\n",
       "      <td>3</td>\n",
       "      <td>26500</td>\n",
       "      <td>0</td>\n",
       "    </tr>\n",
       "    <tr>\n",
       "      <th>9</th>\n",
       "      <td>12</td>\n",
       "      <td>Audi</td>\n",
       "      <td>Audi A3                                       ...</td>\n",
       "      <td>1600</td>\n",
       "      <td>108000</td>\n",
       "      <td>5</td>\n",
       "      <td>34000</td>\n",
       "      <td>0</td>\n",
       "    </tr>\n",
       "    <tr>\n",
       "      <th>10</th>\n",
       "      <td>14</td>\n",
       "      <td>Mazda</td>\n",
       "      <td>Mazda 323                                     ...</td>\n",
       "      <td>1600</td>\n",
       "      <td>188000</td>\n",
       "      <td>13</td>\n",
       "      <td>5000</td>\n",
       "      <td>0</td>\n",
       "    </tr>\n",
       "    <tr>\n",
       "      <th>11</th>\n",
       "      <td>18</td>\n",
       "      <td>Peugeot</td>\n",
       "      <td>Peugeot 206                                   ...</td>\n",
       "      <td>1100</td>\n",
       "      <td>90300</td>\n",
       "      <td>5</td>\n",
       "      <td>17500</td>\n",
       "      <td>0</td>\n",
       "    </tr>\n",
       "    <tr>\n",
       "      <th>12</th>\n",
       "      <td>20</td>\n",
       "      <td>Subaru</td>\n",
       "      <td>Subaru Forester                               ...</td>\n",
       "      <td>2000</td>\n",
       "      <td>153000</td>\n",
       "      <td>7</td>\n",
       "      <td>26500</td>\n",
       "      <td>0</td>\n",
       "    </tr>\n",
       "    <tr>\n",
       "      <th>13</th>\n",
       "      <td>21</td>\n",
       "      <td>Fiat</td>\n",
       "      <td>Fiat Marea                                    ...</td>\n",
       "      <td>1900</td>\n",
       "      <td>150000</td>\n",
       "      <td>5</td>\n",
       "      <td>19800</td>\n",
       "      <td>1</td>\n",
       "    </tr>\n",
       "    <tr>\n",
       "      <th>14</th>\n",
       "      <td>23</td>\n",
       "      <td>Opel</td>\n",
       "      <td>Opel Vectra                                   ...</td>\n",
       "      <td>1800</td>\n",
       "      <td>160000</td>\n",
       "      <td>9</td>\n",
       "      <td>14500</td>\n",
       "      <td>0</td>\n",
       "    </tr>\n",
       "    <tr>\n",
       "      <th>15</th>\n",
       "      <td>24</td>\n",
       "      <td>Citroen</td>\n",
       "      <td>Citroen C3                                    ...</td>\n",
       "      <td>1400</td>\n",
       "      <td>83000</td>\n",
       "      <td>3</td>\n",
       "      <td>27500</td>\n",
       "      <td>0</td>\n",
       "    </tr>\n",
       "    <tr>\n",
       "      <th>16</th>\n",
       "      <td>27</td>\n",
       "      <td>Subaru</td>\n",
       "      <td>Subaru IMPREZA                                ...</td>\n",
       "      <td>1600</td>\n",
       "      <td>147000</td>\n",
       "      <td>10</td>\n",
       "      <td>11500</td>\n",
       "      <td>0</td>\n",
       "    </tr>\n",
       "    <tr>\n",
       "      <th>17</th>\n",
       "      <td>28</td>\n",
       "      <td>Renault</td>\n",
       "      <td>Renault Megane Kombi                          ...</td>\n",
       "      <td>1600</td>\n",
       "      <td>140000</td>\n",
       "      <td>6</td>\n",
       "      <td>19900</td>\n",
       "      <td>0</td>\n",
       "    </tr>\n",
       "    <tr>\n",
       "      <th>18</th>\n",
       "      <td>29</td>\n",
       "      <td>Opel</td>\n",
       "      <td>Opel Astra II                                 ...</td>\n",
       "      <td>2000</td>\n",
       "      <td>149000</td>\n",
       "      <td>5</td>\n",
       "      <td>27800</td>\n",
       "      <td>1</td>\n",
       "    </tr>\n",
       "    <tr>\n",
       "      <th>19</th>\n",
       "      <td>31</td>\n",
       "      <td>Honda</td>\n",
       "      <td>Honda Civic                                   ...</td>\n",
       "      <td>1400</td>\n",
       "      <td>147000</td>\n",
       "      <td>9</td>\n",
       "      <td>14400</td>\n",
       "      <td>0</td>\n",
       "    </tr>\n",
       "    <tr>\n",
       "      <th>20</th>\n",
       "      <td>32</td>\n",
       "      <td>Hyundai</td>\n",
       "      <td>Hyundai Accent                                ...</td>\n",
       "      <td>1341</td>\n",
       "      <td>180000</td>\n",
       "      <td>7</td>\n",
       "      <td>10900</td>\n",
       "      <td>0</td>\n",
       "    </tr>\n",
       "    <tr>\n",
       "      <th>21</th>\n",
       "      <td>33</td>\n",
       "      <td>Renault</td>\n",
       "      <td>Renault Clio III                              ...</td>\n",
       "      <td>1400</td>\n",
       "      <td>90000</td>\n",
       "      <td>4</td>\n",
       "      <td>27900</td>\n",
       "      <td>0</td>\n",
       "    </tr>\n",
       "    <tr>\n",
       "      <th>22</th>\n",
       "      <td>34</td>\n",
       "      <td>Ford</td>\n",
       "      <td>Ford Escort Kombi                             ...</td>\n",
       "      <td>1600</td>\n",
       "      <td>118000</td>\n",
       "      <td>10</td>\n",
       "      <td>10500</td>\n",
       "      <td>0</td>\n",
       "    </tr>\n",
       "    <tr>\n",
       "      <th>23</th>\n",
       "      <td>38</td>\n",
       "      <td>BMW</td>\n",
       "      <td>BMW 316i coupe                                ...</td>\n",
       "      <td>1600</td>\n",
       "      <td>168000</td>\n",
       "      <td>9</td>\n",
       "      <td>14500</td>\n",
       "      <td>0</td>\n",
       "    </tr>\n",
       "    <tr>\n",
       "      <th>24</th>\n",
       "      <td>39</td>\n",
       "      <td>Opel</td>\n",
       "      <td>Opel Corsa-B                                  ...</td>\n",
       "      <td>973</td>\n",
       "      <td>65000</td>\n",
       "      <td>6</td>\n",
       "      <td>13500</td>\n",
       "      <td>0</td>\n",
       "    </tr>\n",
       "    <tr>\n",
       "      <th>25</th>\n",
       "      <td>41</td>\n",
       "      <td>Opel</td>\n",
       "      <td>Opel Astra II Combi                           ...</td>\n",
       "      <td>1700</td>\n",
       "      <td>129000</td>\n",
       "      <td>7</td>\n",
       "      <td>21900</td>\n",
       "      <td>1</td>\n",
       "    </tr>\n",
       "    <tr>\n",
       "      <th>26</th>\n",
       "      <td>43</td>\n",
       "      <td>Skoda</td>\n",
       "      <td>Skoda Felicia                                 ...</td>\n",
       "      <td>1600</td>\n",
       "      <td>73000</td>\n",
       "      <td>6</td>\n",
       "      <td>13900</td>\n",
       "      <td>0</td>\n",
       "    </tr>\n",
       "    <tr>\n",
       "      <th>27</th>\n",
       "      <td>47</td>\n",
       "      <td>Ford</td>\n",
       "      <td>Ford Fiesta                                   ...</td>\n",
       "      <td>1300</td>\n",
       "      <td>103000</td>\n",
       "      <td>7</td>\n",
       "      <td>11300</td>\n",
       "      <td>0</td>\n",
       "    </tr>\n",
       "    <tr>\n",
       "      <th>28</th>\n",
       "      <td>50</td>\n",
       "      <td>Fiat</td>\n",
       "      <td>Fiat Punto                                    ...</td>\n",
       "      <td>1100</td>\n",
       "      <td>56700</td>\n",
       "      <td>7</td>\n",
       "      <td>9900</td>\n",
       "      <td>0</td>\n",
       "    </tr>\n",
       "    <tr>\n",
       "      <th>29</th>\n",
       "      <td>53</td>\n",
       "      <td>Ford</td>\n",
       "      <td>Ford KA                                       ...</td>\n",
       "      <td>1300</td>\n",
       "      <td>57600</td>\n",
       "      <td>8</td>\n",
       "      <td>9999</td>\n",
       "      <td>0</td>\n",
       "    </tr>\n",
       "    <tr>\n",
       "      <th>30</th>\n",
       "      <td>56</td>\n",
       "      <td>Skoda</td>\n",
       "      <td>Skoda Octavia                                 ...</td>\n",
       "      <td>1600</td>\n",
       "      <td>136000</td>\n",
       "      <td>6</td>\n",
       "      <td>24900</td>\n",
       "      <td>0</td>\n",
       "    </tr>\n",
       "    <tr>\n",
       "      <th>31</th>\n",
       "      <td>57</td>\n",
       "      <td>Skoda</td>\n",
       "      <td>Skoda Felicia PICK-UP                         ...</td>\n",
       "      <td>1300</td>\n",
       "      <td>93000</td>\n",
       "      <td>5</td>\n",
       "      <td>13900</td>\n",
       "      <td>0</td>\n",
       "    </tr>\n",
       "  </tbody>\n",
       "</table>\n",
       "</div>"
      ],
      "text/plain": [
       "    nr        marka                                              model  \\\n",
       "0    1  Fiat         Fiat Seicento                                 ...   \n",
       "1    2  Volkswagen   Volkswagen Corrado                            ...   \n",
       "2    4  Ford         Ford Focus Combi                              ...   \n",
       "3    5  Opel         Opel Vectra                                   ...   \n",
       "4    7  Citroen      Citroen Xsara II                              ...   \n",
       "5    8  Toyota       Toyota Avensis                                ...   \n",
       "6    9  BMW          BMW 320                                       ...   \n",
       "7   10  Peugeot      Peugeot 206                                   ...   \n",
       "8   11  Volkswagen   Volkswagen Golf IV                            ...   \n",
       "9   12  Audi         Audi A3                                       ...   \n",
       "10  14  Mazda        Mazda 323                                     ...   \n",
       "11  18  Peugeot      Peugeot 206                                   ...   \n",
       "12  20  Subaru       Subaru Forester                               ...   \n",
       "13  21  Fiat         Fiat Marea                                    ...   \n",
       "14  23  Opel         Opel Vectra                                   ...   \n",
       "15  24  Citroen      Citroen C3                                    ...   \n",
       "16  27  Subaru       Subaru IMPREZA                                ...   \n",
       "17  28  Renault      Renault Megane Kombi                          ...   \n",
       "18  29  Opel         Opel Astra II                                 ...   \n",
       "19  31  Honda        Honda Civic                                   ...   \n",
       "20  32  Hyundai      Hyundai Accent                                ...   \n",
       "21  33  Renault      Renault Clio III                              ...   \n",
       "22  34  Ford         Ford Escort Kombi                             ...   \n",
       "23  38  BMW          BMW 316i coupe                                ...   \n",
       "24  39  Opel         Opel Corsa-B                                  ...   \n",
       "25  41  Opel         Opel Astra II Combi                           ...   \n",
       "26  43  Skoda        Skoda Felicia                                 ...   \n",
       "27  47  Ford         Ford Fiesta                                   ...   \n",
       "28  50  Fiat         Fiat Punto                                    ...   \n",
       "29  53  Ford         Ford KA                                       ...   \n",
       "30  56  Skoda        Skoda Octavia                                 ...   \n",
       "31  57  Skoda        Skoda Felicia PICK-UP                         ...   \n",
       "\n",
       "    pojemnosc  przebieg  lata   cena  diesel  \n",
       "0         899     52000     5   9500       0  \n",
       "1        2000    188000    12  15900       0  \n",
       "2        1800    125000     5  27900       1  \n",
       "3        1800    148000     9  16600       0  \n",
       "4        1400     70000     5  20000       0  \n",
       "5        1600    105000     6  27500       0  \n",
       "6        2000    164000    11  15600       0  \n",
       "7        1124     72000     6  16000       0  \n",
       "8        1400     52000     3  26500       0  \n",
       "9        1600    108000     5  34000       0  \n",
       "10       1600    188000    13   5000       0  \n",
       "11       1100     90300     5  17500       0  \n",
       "12       2000    153000     7  26500       0  \n",
       "13       1900    150000     5  19800       1  \n",
       "14       1800    160000     9  14500       0  \n",
       "15       1400     83000     3  27500       0  \n",
       "16       1600    147000    10  11500       0  \n",
       "17       1600    140000     6  19900       0  \n",
       "18       2000    149000     5  27800       1  \n",
       "19       1400    147000     9  14400       0  \n",
       "20       1341    180000     7  10900       0  \n",
       "21       1400     90000     4  27900       0  \n",
       "22       1600    118000    10  10500       0  \n",
       "23       1600    168000     9  14500       0  \n",
       "24        973     65000     6  13500       0  \n",
       "25       1700    129000     7  21900       1  \n",
       "26       1600     73000     6  13900       0  \n",
       "27       1300    103000     7  11300       0  \n",
       "28       1100     56700     7   9900       0  \n",
       "29       1300     57600     8   9999       0  \n",
       "30       1600    136000     6  24900       0  \n",
       "31       1300     93000     5  13900       0  "
      ]
     },
     "execution_count": 50,
     "metadata": {},
     "output_type": "execute_result"
    }
   ],
   "source": [
    "auta = pd.read_csv(\"data/auta.csv\", sep=\";\")\n",
    "auta"
   ]
  },
  {
   "cell_type": "markdown",
   "id": "2b86fd38",
   "metadata": {},
   "source": [
    "Analiza korelacji przed grupowaniem - wysoka korelacja (powyżej 0,9) między cechami może sugerować, że są one redundantne i nie wnoszą dodatkowej informacji do procesu grupowania."
   ]
  },
  {
   "cell_type": "code",
   "execution_count": null,
   "id": "136c2b2f",
   "metadata": {},
   "outputs": [
    {
     "data": {
      "application/vnd.microsoft.datawrangler.viewer.v0+json": {
       "columns": [
        {
         "name": "index",
         "rawType": "object",
         "type": "string"
        },
        {
         "name": "pojemnosc",
         "rawType": "float64",
         "type": "float"
        },
        {
         "name": "przebieg",
         "rawType": "float64",
         "type": "float"
        },
        {
         "name": "lata",
         "rawType": "float64",
         "type": "float"
        },
        {
         "name": "cena",
         "rawType": "float64",
         "type": "float"
        }
       ],
       "ref": "12fdf469-6ecb-4b94-ad21-c94af5e03673",
       "rows": [
        [
         "pojemnosc",
         "1.0",
         "0.7219182060644902",
         "0.3606206251605172",
         "0.3510012670546596"
        ],
        [
         "przebieg",
         "0.7219182060644902",
         "1.0",
         "0.6421382865547568",
         "-0.06345181409185273"
        ],
        [
         "lata",
         "0.3606206251605172",
         "0.6421382865547568",
         "1.0",
         "-0.6014291771924802"
        ],
        [
         "cena",
         "0.3510012670546596",
         "-0.06345181409185273",
         "-0.6014291771924802",
         "1.0"
        ]
       ],
       "shape": {
        "columns": 4,
        "rows": 4
       }
      },
      "text/html": [
       "<div>\n",
       "<style scoped>\n",
       "    .dataframe tbody tr th:only-of-type {\n",
       "        vertical-align: middle;\n",
       "    }\n",
       "\n",
       "    .dataframe tbody tr th {\n",
       "        vertical-align: top;\n",
       "    }\n",
       "\n",
       "    .dataframe thead th {\n",
       "        text-align: right;\n",
       "    }\n",
       "</style>\n",
       "<table border=\"1\" class=\"dataframe\">\n",
       "  <thead>\n",
       "    <tr style=\"text-align: right;\">\n",
       "      <th></th>\n",
       "      <th>pojemnosc</th>\n",
       "      <th>przebieg</th>\n",
       "      <th>lata</th>\n",
       "      <th>cena</th>\n",
       "    </tr>\n",
       "  </thead>\n",
       "  <tbody>\n",
       "    <tr>\n",
       "      <th>pojemnosc</th>\n",
       "      <td>1.000000</td>\n",
       "      <td>0.721918</td>\n",
       "      <td>0.360621</td>\n",
       "      <td>0.351001</td>\n",
       "    </tr>\n",
       "    <tr>\n",
       "      <th>przebieg</th>\n",
       "      <td>0.721918</td>\n",
       "      <td>1.000000</td>\n",
       "      <td>0.642138</td>\n",
       "      <td>-0.063452</td>\n",
       "    </tr>\n",
       "    <tr>\n",
       "      <th>lata</th>\n",
       "      <td>0.360621</td>\n",
       "      <td>0.642138</td>\n",
       "      <td>1.000000</td>\n",
       "      <td>-0.601429</td>\n",
       "    </tr>\n",
       "    <tr>\n",
       "      <th>cena</th>\n",
       "      <td>0.351001</td>\n",
       "      <td>-0.063452</td>\n",
       "      <td>-0.601429</td>\n",
       "      <td>1.000000</td>\n",
       "    </tr>\n",
       "  </tbody>\n",
       "</table>\n",
       "</div>"
      ],
      "text/plain": [
       "           pojemnosc  przebieg      lata      cena\n",
       "pojemnosc   1.000000  0.721918  0.360621  0.351001\n",
       "przebieg    0.721918  1.000000  0.642138 -0.063452\n",
       "lata        0.360621  0.642138  1.000000 -0.601429\n",
       "cena        0.351001 -0.063452 -0.601429  1.000000"
      ]
     },
     "metadata": {},
     "output_type": "display_data"
    }
   ],
   "source": [
    "auta[[\"pojemnosc\", \"przebieg\", \"lata\", \"cena\"]].corr()"
   ]
  },
  {
   "cell_type": "markdown",
   "id": "58dcf033",
   "metadata": {},
   "source": [
    "Sprawdzenie zmienności cech przed grupowaniem za pomocą współczynnika zmienności (odchylenie standardowe podzielone przez średnią) - cechy o wysokiej zmienności mogą być bardziej istotne w procesie grupowania od takich o niskiej zmienności (np. poniżej 5%)."
   ]
  },
  {
   "cell_type": "code",
   "execution_count": null,
   "id": "26ec16ec",
   "metadata": {},
   "outputs": [
    {
     "data": {
      "application/vnd.microsoft.datawrangler.viewer.v0+json": {
       "columns": [
        {
         "name": "index",
         "rawType": "object",
         "type": "string"
        },
        {
         "name": "0",
         "rawType": "float64",
         "type": "float"
        }
       ],
       "ref": "45fe6ea6-aca8-4d9c-b403-985aefd6e0f5",
       "rows": [
        [
         "pojemnosc",
         "0.19810555134704166"
        ],
        [
         "przebieg",
         "0.3618380576857198"
        ],
        [
         "lata",
         "0.35914808371471524"
        ],
        [
         "cena",
         "0.4008010684068492"
        ]
       ],
       "shape": {
        "columns": 1,
        "rows": 4
       }
      },
      "text/plain": [
       "pojemnosc    0.198106\n",
       "przebieg     0.361838\n",
       "lata         0.359148\n",
       "cena         0.400801\n",
       "dtype: float64"
      ]
     },
     "metadata": {},
     "output_type": "display_data"
    }
   ],
   "source": [
    "auta[[\"pojemnosc\", \"przebieg\", \"lata\", \"cena\"]].std()/auta[[\"pojemnosc\", \"przebieg\", \"lata\", \"cena\"]].mean()"
   ]
  },
  {
   "cell_type": "code",
   "execution_count": 52,
   "id": "f7ada6ac",
   "metadata": {},
   "outputs": [],
   "source": [
    "x_auta = auta[[\"pojemnosc\", \"przebieg\", \"lata\", \"cena\"]]\n",
    "scaler_auta = StandardScaler()\n",
    "z_auta = scaler_auta.fit_transform(x_auta)\n"
   ]
  },
  {
   "cell_type": "code",
   "execution_count": 54,
   "id": "3fdd2c80",
   "metadata": {},
   "outputs": [
    {
     "data": {
      "text/plain": [
       "[<matplotlib.lines.Line2D at 0x1b0cffc7c50>]"
      ]
     },
     "execution_count": 54,
     "metadata": {},
     "output_type": "execute_result"
    },
    {
     "data": {
      "image/png": "[encoded data removed]",
      "text/plain": [
       "<Figure size 640x480 with 1 Axes>"
      ]
     },
     "metadata": {},
     "output_type": "display_data"
    }
   ],
   "source": [
    "inertia_auta = []\n",
    "ch_scores_auta = []\n",
    "for i in range(2, 11):\n",
    "    kmeans_auta = KMeans(n_clusters=i, init='k-means++', random_state=42)\n",
    "    clusters_kmeans_auta = kmeans_auta.fit_predict(z_auta)\n",
    "    inertia_auta.append(kmeans_auta.inertia_)\n",
    "    ch_scores_auta.append(calinski_harabasz_score(z_auta, clusters_kmeans_auta))\n",
    "\n",
    "plt.plot(range(2, 11), inertia_auta, marker='o') "
   ]
  },
  {
   "cell_type": "code",
   "execution_count": 55,
   "id": "2c1f3863",
   "metadata": {},
   "outputs": [
    {
     "data": {
      "text/plain": [
       "[<matplotlib.lines.Line2D at 0x1b0d0013110>]"
      ]
     },
     "execution_count": 55,
     "metadata": {},
     "output_type": "execute_result"
    },
    {
     "data": {
      "image/png": "[encoded data removed]",
      "text/plain": [
       "<Figure size 640x480 with 1 Axes>"
      ]
     },
     "metadata": {},
     "output_type": "display_data"
    }
   ],
   "source": [
    "plt.plot(range(2, 11), ch_scores_auta, marker='o')"
   ]
  },
  {
   "cell_type": "code",
   "execution_count": 56,
   "id": "2aa2545c",
   "metadata": {},
   "outputs": [
    {
     "data": {
      "application/vnd.microsoft.datawrangler.viewer.v0+json": {
       "columns": [
        {
         "name": "clusters_kmeans",
         "rawType": "int32",
         "type": "integer"
        },
        {
         "name": "pojemnosc",
         "rawType": "float64",
         "type": "float"
        },
        {
         "name": "przebieg",
         "rawType": "float64",
         "type": "float"
        },
        {
         "name": "lata",
         "rawType": "float64",
         "type": "float"
        },
        {
         "name": "cena",
         "rawType": "float64",
         "type": "float"
        }
       ],
       "ref": "124c95e5-c83b-4389-a504-1397005848f8",
       "rows": [
        [
         "0",
         "1226.909090909091",
         "71327.27272727272",
         "5.7272727272727275",
         "14727.181818181818"
        ],
        [
         "1",
         "1674.1",
         "160800.0",
         "9.9",
         "12940.0"
        ],
        [
         "2",
         "1690.909090909091",
         "124363.63636363637",
         "5.363636363636363",
         "25963.636363636364"
        ]
       ],
       "shape": {
        "columns": 4,
        "rows": 3
       }
      },
      "text/html": [
       "<div>\n",
       "<style scoped>\n",
       "    .dataframe tbody tr th:only-of-type {\n",
       "        vertical-align: middle;\n",
       "    }\n",
       "\n",
       "    .dataframe tbody tr th {\n",
       "        vertical-align: top;\n",
       "    }\n",
       "\n",
       "    .dataframe thead th {\n",
       "        text-align: right;\n",
       "    }\n",
       "</style>\n",
       "<table border=\"1\" class=\"dataframe\">\n",
       "  <thead>\n",
       "    <tr style=\"text-align: right;\">\n",
       "      <th></th>\n",
       "      <th>pojemnosc</th>\n",
       "      <th>przebieg</th>\n",
       "      <th>lata</th>\n",
       "      <th>cena</th>\n",
       "    </tr>\n",
       "    <tr>\n",
       "      <th>clusters_kmeans</th>\n",
       "      <th></th>\n",
       "      <th></th>\n",
       "      <th></th>\n",
       "      <th></th>\n",
       "    </tr>\n",
       "  </thead>\n",
       "  <tbody>\n",
       "    <tr>\n",
       "      <th>0</th>\n",
       "      <td>1226.909091</td>\n",
       "      <td>71327.272727</td>\n",
       "      <td>5.727273</td>\n",
       "      <td>14727.181818</td>\n",
       "    </tr>\n",
       "    <tr>\n",
       "      <th>1</th>\n",
       "      <td>1674.100000</td>\n",
       "      <td>160800.000000</td>\n",
       "      <td>9.900000</td>\n",
       "      <td>12940.000000</td>\n",
       "    </tr>\n",
       "    <tr>\n",
       "      <th>2</th>\n",
       "      <td>1690.909091</td>\n",
       "      <td>124363.636364</td>\n",
       "      <td>5.363636</td>\n",
       "      <td>25963.636364</td>\n",
       "    </tr>\n",
       "  </tbody>\n",
       "</table>\n",
       "</div>"
      ],
      "text/plain": [
       "                   pojemnosc       przebieg      lata          cena\n",
       "clusters_kmeans                                                    \n",
       "0                1226.909091   71327.272727  5.727273  14727.181818\n",
       "1                1674.100000  160800.000000  9.900000  12940.000000\n",
       "2                1690.909091  124363.636364  5.363636  25963.636364"
      ]
     },
     "execution_count": 56,
     "metadata": {},
     "output_type": "execute_result"
    }
   ],
   "source": [
    "auta[\"clusters_kmeans\"] = KMeans(n_clusters=3, init='k-means++', random_state=42).fit_predict(z_auta)\n",
    "auta[[\"pojemnosc\", \"przebieg\", \"lata\", \"cena\", \"clusters_kmeans\"]].groupby(\"clusters_kmeans\").mean()"
   ]
  }
 ],
 "metadata": {
  "kernelspec": {
   "display_name": "venv",
   "language": "python",
   "name": "python3"
  },
  "language_info": {
   "codemirror_mode": {
    "name": "ipython",
    "version": 3
   },
   "file_extension": ".py",
   "mimetype": "text/x-python",
   "name": "python",
   "nbconvert_exporter": "python",
   "pygments_lexer": "ipython3",
   "version": "3.13.3"
  }
 },
 "nbformat": 4,
 "nbformat_minor": 5
}
